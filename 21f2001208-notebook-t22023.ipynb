{
 "cells": [
  {
   "cell_type": "code",
   "execution_count": 1,
   "id": "653cef29",
   "metadata": {
    "_cell_guid": "b1076dfc-b9ad-4769-8c92-a6c4dae69d19",
    "_uuid": "8f2839f25d086af736a60e9eeb907d3b93b6e0e5",
    "execution": {
     "iopub.execute_input": "2023-08-08T16:05:05.624740Z",
     "iopub.status.busy": "2023-08-08T16:05:05.624340Z",
     "iopub.status.idle": "2023-08-08T16:05:05.638665Z",
     "shell.execute_reply": "2023-08-08T16:05:05.637851Z"
    },
    "papermill": {
     "duration": 0.05738,
     "end_time": "2023-08-08T16:05:05.641350",
     "exception": false,
     "start_time": "2023-08-08T16:05:05.583970",
     "status": "completed"
    },
    "tags": []
   },
   "outputs": [
    {
     "name": "stdout",
     "output_type": "stream",
     "text": [
      "/kaggle/input/sentiment-prediction-on-movie-reviews/movies.csv\n",
      "/kaggle/input/sentiment-prediction-on-movie-reviews/sample.csv\n",
      "/kaggle/input/sentiment-prediction-on-movie-reviews/train.csv\n",
      "/kaggle/input/sentiment-prediction-on-movie-reviews/test.csv\n"
     ]
    }
   ],
   "source": [
    "# This Python 3 environment comes with many helpful analytics libraries installed\n",
    "# It is defined by the kaggle/python Docker image: https://github.com/kaggle/docker-python\n",
    "# For example, here's several helpful packages to load\n",
    "\n",
    "import numpy as np # linear algebra\n",
    "import pandas as pd # data processing, CSV file I/O (e.g. pd.read_csv)\n",
    "\n",
    "# Input data files are available in the read-only \"../input/\" directory\n",
    "# For example, running this (by clicking run or pressing Shift+Enter) will list all files under the input directory\n",
    "# \n",
    "import os\n",
    "for dirname, _, filenames in os.walk('/kaggle/input'):\n",
    "    for filename in filenames:\n",
    "        print(os.path.join(dirname, filename))\n",
    "\n",
    "# You can write up to 20GB to the current directory (/kaggle/working/) that gets preserved as output when you create a version using \"Save & Run All\" \n",
    "# You can also write temporary files to /kaggle/temp/, but they won't be saved outside of the current session"
   ]
  },
  {
   "cell_type": "code",
   "execution_count": 2,
   "id": "f99659d1",
   "metadata": {
    "execution": {
     "iopub.execute_input": "2023-08-08T16:05:05.719856Z",
     "iopub.status.busy": "2023-08-08T16:05:05.719417Z",
     "iopub.status.idle": "2023-08-08T16:05:08.078407Z",
     "shell.execute_reply": "2023-08-08T16:05:08.077143Z"
    },
    "papermill": {
     "duration": 2.402198,
     "end_time": "2023-08-08T16:05:08.081591",
     "exception": false,
     "start_time": "2023-08-08T16:05:05.679393",
     "status": "completed"
    },
    "tags": []
   },
   "outputs": [],
   "source": [
    "# import libraries\n",
    "import pandas as pd\n",
    "import numpy as np\n",
    "import re\n",
    "import matplotlib.pyplot as plt\n",
    "import seaborn as sns\n",
    "from sklearn.impute import SimpleImputer, KNNImputer\n",
    "from sklearn.preprocessing import StandardScaler\n",
    "from sklearn.model_selection import StratifiedKFold\n",
    "from sklearn.preprocessing import LabelEncoder, OneHotEncoder\n",
    "from sklearn.pipeline import Pipeline, make_pipeline\n",
    "from sklearn.model_selection import learning_curve\n",
    "from sklearn.dummy import DummyClassifier\n",
    "from sklearn.feature_extraction.text import CountVectorizer\n",
    "from sklearn.feature_extraction.text import TfidfVectorizer\n",
    "from sklearn.feature_extraction.text import ENGLISH_STOP_WORDS\n",
    "from sklearn.naive_bayes import MultinomialNB\n",
    "from scipy.stats import chi2_contingency\n",
    "from sklearn.linear_model import LogisticRegression\n",
    "from sklearn.model_selection import cross_val_score\n",
    "from sklearn.svm import SVC\n",
    "from sklearn.tree import DecisionTreeClassifier\n",
    "from sklearn.neighbors import KNeighborsClassifier\n",
    "from sklearn.ensemble import BaggingClassifier\n",
    "from sklearn.multiclass import OneVsRestClassifier\n",
    "from sklearn.ensemble import AdaBoostClassifier, GradientBoostingClassifier\n",
    "from sklearn.neural_network import MLPClassifier\n",
    "from sklearn.ensemble import RandomForestClassifier\n",
    "from sklearn.model_selection import train_test_split\n",
    "from sklearn.feature_selection import SelectKBest, f_regression\n",
    "from sklearn.metrics import confusion_matrix,accuracy_score,classification_report, precision_score, recall_score, f1_score\n",
    "from sklearn.model_selection import GridSearchCV\n",
    "from sklearn.model_selection import RandomizedSearchCV"
   ]
  },
  {
   "cell_type": "code",
   "execution_count": 3,
   "id": "a88a1751",
   "metadata": {
    "execution": {
     "iopub.execute_input": "2023-08-08T16:05:08.161366Z",
     "iopub.status.busy": "2023-08-08T16:05:08.160921Z",
     "iopub.status.idle": "2023-08-08T16:05:10.440954Z",
     "shell.execute_reply": "2023-08-08T16:05:10.439604Z"
    },
    "papermill": {
     "duration": 2.323675,
     "end_time": "2023-08-08T16:05:10.443562",
     "exception": false,
     "start_time": "2023-08-08T16:05:08.119887",
     "status": "completed"
    },
    "tags": []
   },
   "outputs": [],
   "source": [
    "# Load the data\n",
    "\n",
    "df_train = pd.read_csv('/kaggle/input/sentiment-prediction-on-movie-reviews/train.csv')\n",
    "df_test = pd.read_csv('/kaggle/input/sentiment-prediction-on-movie-reviews/test.csv')\n",
    "movies = pd.read_csv('/kaggle/input/sentiment-prediction-on-movie-reviews/movies.csv')"
   ]
  },
  {
   "cell_type": "markdown",
   "id": "cf4bebd3",
   "metadata": {
    "papermill": {
     "duration": 0.036935,
     "end_time": "2023-08-08T16:05:10.518288",
     "exception": false,
     "start_time": "2023-08-08T16:05:10.481353",
     "status": "completed"
    },
    "tags": []
   },
   "source": [
    "# **1. Exploratory Data Analysis (EDA)**\n",
    "1. **Shape of data.**\n",
    "* > df_train.shape = (162758, 5)\n",
    "* > df_test.shape = (55315, 4)\n",
    "* > movies.shape = (143258, 14)\n",
    "\n",
    "2. **Distribution of sentiments.**\n",
    "* Positive dominant over Negative.\n",
    "\n",
    "3. **Text Length Analysis.**\n",
    "4. **Sentiment Correlations.**"
   ]
  },
  {
   "cell_type": "markdown",
   "id": "fcb5137e",
   "metadata": {
    "papermill": {
     "duration": 0.037327,
     "end_time": "2023-08-08T16:05:10.593513",
     "exception": false,
     "start_time": "2023-08-08T16:05:10.556186",
     "status": "completed"
    },
    "tags": []
   },
   "source": [
    "# **Check data samples**"
   ]
  },
  {
   "cell_type": "code",
   "execution_count": 4,
   "id": "9dda9568",
   "metadata": {
    "execution": {
     "iopub.execute_input": "2023-08-08T16:05:10.672018Z",
     "iopub.status.busy": "2023-08-08T16:05:10.671553Z",
     "iopub.status.idle": "2023-08-08T16:05:10.703868Z",
     "shell.execute_reply": "2023-08-08T16:05:10.702711Z"
    },
    "papermill": {
     "duration": 0.074762,
     "end_time": "2023-08-08T16:05:10.706634",
     "exception": false,
     "start_time": "2023-08-08T16:05:10.631872",
     "status": "completed"
    },
    "tags": []
   },
   "outputs": [
    {
     "data": {
      "text/html": [
       "<div>\n",
       "<style scoped>\n",
       "    .dataframe tbody tr th:only-of-type {\n",
       "        vertical-align: middle;\n",
       "    }\n",
       "\n",
       "    .dataframe tbody tr th {\n",
       "        vertical-align: top;\n",
       "    }\n",
       "\n",
       "    .dataframe thead th {\n",
       "        text-align: right;\n",
       "    }\n",
       "</style>\n",
       "<table border=\"1\" class=\"dataframe\">\n",
       "  <thead>\n",
       "    <tr style=\"text-align: right;\">\n",
       "      <th></th>\n",
       "      <th>movieid</th>\n",
       "      <th>reviewerName</th>\n",
       "      <th>isFrequentReviewer</th>\n",
       "      <th>reviewText</th>\n",
       "      <th>sentiment</th>\n",
       "    </tr>\n",
       "  </thead>\n",
       "  <tbody>\n",
       "    <tr>\n",
       "      <th>0</th>\n",
       "      <td>marvelous_pirate</td>\n",
       "      <td>Benjamin Henry</td>\n",
       "      <td>False</td>\n",
       "      <td>Henry Selick’s first movie since 2009’s Corali...</td>\n",
       "      <td>POSITIVE</td>\n",
       "    </tr>\n",
       "    <tr>\n",
       "      <th>1</th>\n",
       "      <td>tony_montana_frodo_baggins_v_rocky_balboa</td>\n",
       "      <td>Felicia Lopez</td>\n",
       "      <td>False</td>\n",
       "      <td>With a cast that reads like the Vogue Oscar pa...</td>\n",
       "      <td>NEGATIVE</td>\n",
       "    </tr>\n",
       "    <tr>\n",
       "      <th>2</th>\n",
       "      <td>darth_vader_katniss_everdeen_sorcerer_donnie_d...</td>\n",
       "      <td>Mr. Charles Burgess</td>\n",
       "      <td>True</td>\n",
       "      <td>Creed II does not give us anything but another...</td>\n",
       "      <td>POSITIVE</td>\n",
       "    </tr>\n",
       "    <tr>\n",
       "      <th>3</th>\n",
       "      <td>lara_croft_glimmer</td>\n",
       "      <td>Ryan Barrett</td>\n",
       "      <td>False</td>\n",
       "      <td>I know what you're thinking, but this is no Li...</td>\n",
       "      <td>POSITIVE</td>\n",
       "    </tr>\n",
       "    <tr>\n",
       "      <th>4</th>\n",
       "      <td>jason_bourne_surreal_the_terminator_indiana_jones</td>\n",
       "      <td>Alexander Glover</td>\n",
       "      <td>False</td>\n",
       "      <td>Director Fernando Meirelles tells the story wi...</td>\n",
       "      <td>POSITIVE</td>\n",
       "    </tr>\n",
       "  </tbody>\n",
       "</table>\n",
       "</div>"
      ],
      "text/plain": [
       "                                             movieid         reviewerName  \\\n",
       "0                                   marvelous_pirate       Benjamin Henry   \n",
       "1          tony_montana_frodo_baggins_v_rocky_balboa        Felicia Lopez   \n",
       "2  darth_vader_katniss_everdeen_sorcerer_donnie_d...  Mr. Charles Burgess   \n",
       "3                                 lara_croft_glimmer         Ryan Barrett   \n",
       "4  jason_bourne_surreal_the_terminator_indiana_jones     Alexander Glover   \n",
       "\n",
       "   isFrequentReviewer                                         reviewText  \\\n",
       "0               False  Henry Selick’s first movie since 2009’s Corali...   \n",
       "1               False  With a cast that reads like the Vogue Oscar pa...   \n",
       "2                True  Creed II does not give us anything but another...   \n",
       "3               False  I know what you're thinking, but this is no Li...   \n",
       "4               False  Director Fernando Meirelles tells the story wi...   \n",
       "\n",
       "  sentiment  \n",
       "0  POSITIVE  \n",
       "1  NEGATIVE  \n",
       "2  POSITIVE  \n",
       "3  POSITIVE  \n",
       "4  POSITIVE  "
      ]
     },
     "execution_count": 4,
     "metadata": {},
     "output_type": "execute_result"
    }
   ],
   "source": [
    "df_train.head()"
   ]
  },
  {
   "cell_type": "markdown",
   "id": "955d270c",
   "metadata": {
    "papermill": {
     "duration": 0.037624,
     "end_time": "2023-08-08T16:05:10.782240",
     "exception": false,
     "start_time": "2023-08-08T16:05:10.744616",
     "status": "completed"
    },
    "tags": []
   },
   "source": [
    "**1.Shape of data.**"
   ]
  },
  {
   "cell_type": "code",
   "execution_count": 5,
   "id": "9ce8c7a8",
   "metadata": {
    "execution": {
     "iopub.execute_input": "2023-08-08T16:05:10.862185Z",
     "iopub.status.busy": "2023-08-08T16:05:10.861070Z",
     "iopub.status.idle": "2023-08-08T16:05:10.868060Z",
     "shell.execute_reply": "2023-08-08T16:05:10.867282Z"
    },
    "papermill": {
     "duration": 0.04978,
     "end_time": "2023-08-08T16:05:10.870065",
     "exception": false,
     "start_time": "2023-08-08T16:05:10.820285",
     "status": "completed"
    },
    "tags": []
   },
   "outputs": [
    {
     "data": {
      "text/plain": [
       "((162758, 5), (55315, 4), (143258, 14))"
      ]
     },
     "execution_count": 5,
     "metadata": {},
     "output_type": "execute_result"
    }
   ],
   "source": [
    "# Shape of train, test and movies data.\n",
    "\n",
    "df_train.shape, df_test.shape, movies.shape"
   ]
  },
  {
   "cell_type": "code",
   "execution_count": 6,
   "id": "c784474c",
   "metadata": {
    "execution": {
     "iopub.execute_input": "2023-08-08T16:05:10.948437Z",
     "iopub.status.busy": "2023-08-08T16:05:10.948008Z",
     "iopub.status.idle": "2023-08-08T16:05:10.955184Z",
     "shell.execute_reply": "2023-08-08T16:05:10.954165Z"
    },
    "papermill": {
     "duration": 0.049152,
     "end_time": "2023-08-08T16:05:10.957509",
     "exception": false,
     "start_time": "2023-08-08T16:05:10.908357",
     "status": "completed"
    },
    "tags": []
   },
   "outputs": [
    {
     "data": {
      "text/plain": [
       "['movieid', 'reviewerName', 'isTopCritic', 'reviewText']"
      ]
     },
     "execution_count": 6,
     "metadata": {},
     "output_type": "execute_result"
    }
   ],
   "source": [
    "df_test.columns.tolist()"
   ]
  },
  {
   "cell_type": "markdown",
   "id": "f8d9b8bf",
   "metadata": {
    "papermill": {
     "duration": 0.038238,
     "end_time": "2023-08-08T16:05:11.034156",
     "exception": false,
     "start_time": "2023-08-08T16:05:10.995918",
     "status": "completed"
    },
    "tags": []
   },
   "source": [
    "**2. Distribution on sentiments.**"
   ]
  },
  {
   "cell_type": "code",
   "execution_count": 7,
   "id": "b23e2c7f",
   "metadata": {
    "execution": {
     "iopub.execute_input": "2023-08-08T16:05:11.113349Z",
     "iopub.status.busy": "2023-08-08T16:05:11.112245Z",
     "iopub.status.idle": "2023-08-08T16:05:11.402156Z",
     "shell.execute_reply": "2023-08-08T16:05:11.401035Z"
    },
    "papermill": {
     "duration": 0.331957,
     "end_time": "2023-08-08T16:05:11.404576",
     "exception": false,
     "start_time": "2023-08-08T16:05:11.072619",
     "status": "completed"
    },
    "tags": []
   },
   "outputs": [
    {
     "data": {
      "image/png": "[encoded data removed]",
      "text/plain": [
       "<Figure size 400x400 with 1 Axes>"
      ]
     },
     "metadata": {},
     "output_type": "display_data"
    }
   ],
   "source": [
    "# Distribution of 'Positive' and 'Negative' sentiments.\n",
    "sentiment_counts = df_train['sentiment'].value_counts()\n",
    "\n",
    "# Plot the distribution of sentiments\n",
    "plt.figure(figsize=(4,4))\n",
    "plt.bar(sentiment_counts.index, sentiment_counts.values, color=['green', 'red'])\n",
    "plt.xlabel('Sentiments')\n",
    "plt.ylabel('Count')\n",
    "plt.title('Distribution of Sentiments')\n",
    "plt.show()\n"
   ]
  },
  {
   "cell_type": "markdown",
   "id": "1f421bf8",
   "metadata": {
    "papermill": {
     "duration": 0.038696,
     "end_time": "2023-08-08T16:05:11.482187",
     "exception": false,
     "start_time": "2023-08-08T16:05:11.443491",
     "status": "completed"
    },
    "tags": []
   },
   "source": [
    "**3. Text Analysis of train data.**\n",
    ">     In this we take a deep look how text will look inside 'reviewText'. Whether they have null value, length of text, and describe over 'reviewText'."
   ]
  },
  {
   "cell_type": "code",
   "execution_count": 8,
   "id": "db0b6082",
   "metadata": {
    "execution": {
     "iopub.execute_input": "2023-08-08T16:05:11.562504Z",
     "iopub.status.busy": "2023-08-08T16:05:11.561608Z",
     "iopub.status.idle": "2023-08-08T16:05:11.782228Z",
     "shell.execute_reply": "2023-08-08T16:05:11.781095Z"
    },
    "papermill": {
     "duration": 0.263476,
     "end_time": "2023-08-08T16:05:11.784761",
     "exception": false,
     "start_time": "2023-08-08T16:05:11.521285",
     "status": "completed"
    },
    "tags": []
   },
   "outputs": [
    {
     "data": {
      "text/plain": [
       "movieid                  0\n",
       "reviewerName             0\n",
       "isFrequentReviewer       0\n",
       "reviewText            6447\n",
       "sentiment                0\n",
       "dtype: int64"
      ]
     },
     "execution_count": 8,
     "metadata": {},
     "output_type": "execute_result"
    }
   ],
   "source": [
    "df_train.isna().sum()"
   ]
  },
  {
   "cell_type": "code",
   "execution_count": 9,
   "id": "e3975f82",
   "metadata": {
    "execution": {
     "iopub.execute_input": "2023-08-08T16:05:11.865727Z",
     "iopub.status.busy": "2023-08-08T16:05:11.865298Z",
     "iopub.status.idle": "2023-08-08T16:05:11.916469Z",
     "shell.execute_reply": "2023-08-08T16:05:11.915250Z"
    },
    "papermill": {
     "duration": 0.095035,
     "end_time": "2023-08-08T16:05:11.919290",
     "exception": false,
     "start_time": "2023-08-08T16:05:11.824255",
     "status": "completed"
    },
    "tags": []
   },
   "outputs": [],
   "source": [
    "# Fill NaN values in the 'text' column with 'NA'.\n",
    "df_train['reviewText'] = df_train['reviewText'].fillna('NA')\n",
    "\n",
    "# Convert 'text' column to string to handle potential float values.\n",
    "df_train['reviewText'] = df_train['reviewText'].astype(str)"
   ]
  },
  {
   "cell_type": "markdown",
   "id": "30370ec0",
   "metadata": {
    "papermill": {
     "duration": 0.038929,
     "end_time": "2023-08-08T16:05:11.997453",
     "exception": false,
     "start_time": "2023-08-08T16:05:11.958524",
     "status": "completed"
    },
    "tags": []
   },
   "source": [
    "**We fill 'NA' to null value of reviewText of df_train.**"
   ]
  },
  {
   "cell_type": "markdown",
   "id": "32875a2a",
   "metadata": {
    "papermill": {
     "duration": 0.038535,
     "end_time": "2023-08-08T16:05:12.074971",
     "exception": false,
     "start_time": "2023-08-08T16:05:12.036436",
     "status": "completed"
    },
    "tags": []
   },
   "source": [
    "# **Bar chart**\n",
    "**Visualization on most-frequent text on train data.**"
   ]
  },
  {
   "cell_type": "code",
   "execution_count": 10,
   "id": "815cf473",
   "metadata": {
    "execution": {
     "iopub.execute_input": "2023-08-08T16:05:12.156914Z",
     "iopub.status.busy": "2023-08-08T16:05:12.156217Z",
     "iopub.status.idle": "2023-08-08T16:05:18.160526Z",
     "shell.execute_reply": "2023-08-08T16:05:18.159386Z"
    },
    "papermill": {
     "duration": 6.048482,
     "end_time": "2023-08-08T16:05:18.163059",
     "exception": false,
     "start_time": "2023-08-08T16:05:12.114577",
     "status": "completed"
    },
    "tags": []
   },
   "outputs": [
    {
     "name": "stdout",
     "output_type": "stream",
     "text": [
      "[('the', 179656), ('and', 109468), ('of', 104327), ('to', 72956), ('is', 64514), ('it', 62725), ('in', 51515), ('that', 44638), ('as', 30401), ('but', 30125), ('with', 30101), ('film', 26858), ('for', 26043), ('this', 25866), ('an', 21528), ('its', 21166), ('movie', 18222), ('you', 17965), ('on', 17850), ('be', 16004)]\n"
     ]
    },
    {
     "data": {
      "image/png": "[encoded data removed]",
      "text/plain": [
       "<Figure size 640x480 with 1 Axes>"
      ]
     },
     "metadata": {},
     "output_type": "display_data"
    }
   ],
   "source": [
    "# Combine all text into a single list\n",
    "all_text = df_train['reviewText'].tolist()\n",
    "\n",
    "# Initialize the CountVectorizer\n",
    "vectorizer = CountVectorizer()\n",
    "\n",
    "# Fit and transform the text data into a matrix of word counts\n",
    "word_counts_matrix = vectorizer.fit_transform(all_text)\n",
    "\n",
    "# Get the feature names (words)\n",
    "words = vectorizer.get_feature_names_out()\n",
    "\n",
    "# Sum the word counts across all reviews\n",
    "word_frequencies = word_counts_matrix.sum(axis=0).tolist()[0]\n",
    "\n",
    "# Create a dictionary to store word frequencies with their respective words\n",
    "word_freq_dict = dict(zip(words, word_frequencies))\n",
    "\n",
    "# Get the most common words and their frequencies\n",
    "most_common_words = sorted(word_freq_dict.items(), key=lambda x: x[1], reverse=True)[:20]\n",
    "\n",
    "# word_freq_dict.items(): \n",
    "# This method returns a view object that displays \n",
    "# a list of key-value pairs (words and their frequencies) in the word_freq_dict.\n",
    "\n",
    "# Print the most common words and their frequencies\n",
    "print(most_common_words)\n",
    "\n",
    "# Visualize word frequency using a bar chart\n",
    "words, frequencies = zip(*most_common_words)\n",
    "# unzip the list of tuples.\n",
    "plt.bar(words, frequencies)\n",
    "plt.xticks(rotation=45)\n",
    "plt.xlabel('Words')\n",
    "plt.ylabel('Frequencies')\n",
    "plt.title('Word Frequency Analysis')\n",
    "plt.show()\n"
   ]
  },
  {
   "cell_type": "markdown",
   "id": "47a13a05",
   "metadata": {
    "papermill": {
     "duration": 0.047808,
     "end_time": "2023-08-08T16:05:18.251911",
     "exception": false,
     "start_time": "2023-08-08T16:05:18.204103",
     "status": "completed"
    },
    "tags": []
   },
   "source": [
    "**3.1 Text Analysis on test data.**\n",
    ">     In this we take a deep look, how text will look inside 'reviewText' for test data. Whether they have null value, length of text, and describe over 'reviewText'."
   ]
  },
  {
   "cell_type": "code",
   "execution_count": 11,
   "id": "05343e9a",
   "metadata": {
    "execution": {
     "iopub.execute_input": "2023-08-08T16:05:18.368095Z",
     "iopub.status.busy": "2023-08-08T16:05:18.367278Z",
     "iopub.status.idle": "2023-08-08T16:05:18.429937Z",
     "shell.execute_reply": "2023-08-08T16:05:18.429100Z"
    },
    "papermill": {
     "duration": 0.131837,
     "end_time": "2023-08-08T16:05:18.432242",
     "exception": false,
     "start_time": "2023-08-08T16:05:18.300405",
     "status": "completed"
    },
    "tags": []
   },
   "outputs": [
    {
     "data": {
      "text/plain": [
       "movieid            0\n",
       "reviewerName       0\n",
       "isTopCritic        0\n",
       "reviewText      2510\n",
       "dtype: int64"
      ]
     },
     "execution_count": 11,
     "metadata": {},
     "output_type": "execute_result"
    }
   ],
   "source": [
    "df_test.isna().sum()"
   ]
  },
  {
   "cell_type": "markdown",
   "id": "cd0cf835",
   "metadata": {
    "papermill": {
     "duration": 0.039438,
     "end_time": "2023-08-08T16:05:18.511570",
     "exception": false,
     "start_time": "2023-08-08T16:05:18.472132",
     "status": "completed"
    },
    "tags": []
   },
   "source": [
    "ReviewText having 2510 null value. Needs to deal with them."
   ]
  },
  {
   "cell_type": "code",
   "execution_count": 12,
   "id": "d6f7c91c",
   "metadata": {
    "execution": {
     "iopub.execute_input": "2023-08-08T16:05:18.593974Z",
     "iopub.status.busy": "2023-08-08T16:05:18.593497Z",
     "iopub.status.idle": "2023-08-08T16:05:18.667678Z",
     "shell.execute_reply": "2023-08-08T16:05:18.666533Z"
    },
    "papermill": {
     "duration": 0.118089,
     "end_time": "2023-08-08T16:05:18.670197",
     "exception": false,
     "start_time": "2023-08-08T16:05:18.552108",
     "status": "completed"
    },
    "tags": []
   },
   "outputs": [
    {
     "data": {
      "text/plain": [
       "count    55315.000000\n",
       "mean       126.101437\n",
       "std         61.680838\n",
       "min          1.000000\n",
       "25%         83.000000\n",
       "50%        127.000000\n",
       "75%        169.000000\n",
       "max        363.000000\n",
       "Name: text_length, dtype: float64"
      ]
     },
     "execution_count": 12,
     "metadata": {},
     "output_type": "execute_result"
    }
   ],
   "source": [
    "# First we deal with the null value by using fillna.\n",
    "df_test['reviewText'] = df_test['reviewText'].fillna('NA')\n",
    "\n",
    "# There will be fullstop in reviewText that will read as float value need to take care of it.\n",
    "df_test['reviewText'] = df_test['reviewText'].astype(str)\n",
    "\n",
    "# Form a new feature column with a name text length contains the length of each reviewText elements.\n",
    "df_test['text_length'] = df_test['reviewText'].apply(lambda x: len(x))\n",
    "\n",
    "# Statistical summary of text length.\n",
    "df_test['text_length'].describe()"
   ]
  },
  {
   "cell_type": "markdown",
   "id": "feb8d4c4",
   "metadata": {
    "papermill": {
     "duration": 0.040944,
     "end_time": "2023-08-08T16:05:18.751925",
     "exception": false,
     "start_time": "2023-08-08T16:05:18.710981",
     "status": "completed"
    },
    "tags": []
   },
   "source": [
    "# **Bar chart**\n",
    "**Visualization on most-frequent text on test data.**"
   ]
  },
  {
   "cell_type": "code",
   "execution_count": 13,
   "id": "225b7472",
   "metadata": {
    "execution": {
     "iopub.execute_input": "2023-08-08T16:05:18.834968Z",
     "iopub.status.busy": "2023-08-08T16:05:18.834503Z",
     "iopub.status.idle": "2023-08-08T16:05:21.254938Z",
     "shell.execute_reply": "2023-08-08T16:05:21.253572Z"
    },
    "papermill": {
     "duration": 2.4661,
     "end_time": "2023-08-08T16:05:21.257922",
     "exception": false,
     "start_time": "2023-08-08T16:05:18.791822",
     "status": "completed"
    },
    "tags": []
   },
   "outputs": [
    {
     "name": "stdout",
     "output_type": "stream",
     "text": [
      "[('the', 60528), ('and', 36899), ('of', 35745), ('to', 24687), ('is', 21633), ('it', 21288), ('in', 17534), ('that', 14844), ('as', 10139), ('but', 10039), ('with', 10020), ('film', 9095), ('this', 8923), ('for', 8801), ('an', 7413), ('its', 7318), ('on', 6019), ('you', 5945), ('movie', 5878), ('be', 5382)]\n"
     ]
    },
    {
     "data": {
      "text/plain": [
       "Text(0.5, 1.0, 'word frequency analysis on test data')"
      ]
     },
     "execution_count": 13,
     "metadata": {},
     "output_type": "execute_result"
    },
    {
     "data": {
      "image/png": "[encoded data removed]",
      "text/plain": [
       "<Figure size 640x480 with 1 Axes>"
      ]
     },
     "metadata": {},
     "output_type": "display_data"
    }
   ],
   "source": [
    "# load the reviewText column form test data.\n",
    "reviewText_test = df_test['reviewText'].tolist()\n",
    "\n",
    "matrix_of_test_word = vectorizer.fit_transform(reviewText_test)\n",
    "\n",
    "words = vectorizer.get_feature_names_out()\n",
    "frequency = matrix_of_test_word.sum(axis = 0).tolist()[0]\n",
    "\n",
    "dict_words_frequency = dict(zip(words, frequency))\n",
    "\n",
    "most_common_word = sorted(dict_words_frequency.items(), key = lambda x: x[1], reverse = True)[:20]\n",
    "\n",
    "print(most_common_word)\n",
    "\n",
    "word, frequecies = zip(*most_common_word)\n",
    "plt.bar(word, frequencies)\n",
    "plt.xticks(rotation = 45)\n",
    "plt.xlabel('words')\n",
    "plt.ylabel('frequency')\n",
    "plt.title('word frequency analysis on test data')"
   ]
  },
  {
   "cell_type": "markdown",
   "id": "b2b02d6a",
   "metadata": {
    "papermill": {
     "duration": 0.041457,
     "end_time": "2023-08-08T16:05:21.340308",
     "exception": false,
     "start_time": "2023-08-08T16:05:21.298851",
     "status": "completed"
    },
    "tags": []
   },
   "source": [
    "# **2. Baseline models**\n",
    "\n",
    "> Establish a performance benchmark."
   ]
  },
  {
   "cell_type": "code",
   "execution_count": 14,
   "id": "8bd066ff",
   "metadata": {
    "execution": {
     "iopub.execute_input": "2023-08-08T16:05:21.425528Z",
     "iopub.status.busy": "2023-08-08T16:05:21.424873Z",
     "iopub.status.idle": "2023-08-08T16:05:27.265999Z",
     "shell.execute_reply": "2023-08-08T16:05:27.264318Z"
    },
    "papermill": {
     "duration": 5.88632,
     "end_time": "2023-08-08T16:05:27.268402",
     "exception": false,
     "start_time": "2023-08-08T16:05:21.382082",
     "status": "completed"
    },
    "tags": []
   },
   "outputs": [
    {
     "name": "stdout",
     "output_type": "stream",
     "text": [
      "Baseline Model - Dummy Classifier\n",
      "Accuracy: 0.6714180388301794\n",
      "F1-score: 0.8034112630495515\n",
      "Classification Report:\n",
      "               precision    recall  f1-score   support\n",
      "\n",
      "           0       0.00      0.00      0.00     10696\n",
      "           1       0.67      1.00      0.80     21856\n",
      "\n",
      "    accuracy                           0.67     32552\n",
      "   macro avg       0.34      0.50      0.40     32552\n",
      "weighted avg       0.45      0.67      0.54     32552\n",
      "\n"
     ]
    },
    {
     "name": "stderr",
     "output_type": "stream",
     "text": [
      "/opt/conda/lib/python3.10/site-packages/sklearn/metrics/_classification.py:1344: UndefinedMetricWarning: Precision and F-score are ill-defined and being set to 0.0 in labels with no predicted samples. Use `zero_division` parameter to control this behavior.\n",
      "  _warn_prf(average, modifier, msg_start, len(result))\n",
      "/opt/conda/lib/python3.10/site-packages/sklearn/metrics/_classification.py:1344: UndefinedMetricWarning: Precision and F-score are ill-defined and being set to 0.0 in labels with no predicted samples. Use `zero_division` parameter to control this behavior.\n",
      "  _warn_prf(average, modifier, msg_start, len(result))\n",
      "/opt/conda/lib/python3.10/site-packages/sklearn/metrics/_classification.py:1344: UndefinedMetricWarning: Precision and F-score are ill-defined and being set to 0.0 in labels with no predicted samples. Use `zero_division` parameter to control this behavior.\n",
      "  _warn_prf(average, modifier, msg_start, len(result))\n"
     ]
    }
   ],
   "source": [
    "# Sentiments and labels.\n",
    "sentiments = df_train['sentiment']\n",
    "label_encoder = LabelEncoder()\n",
    "label = label_encoder.fit_transform(sentiments)\n",
    "\n",
    "# Features and target label.\n",
    "features = df_train['reviewText']\n",
    "target = label\n",
    "\n",
    "# Split the data into training and testing sets.\n",
    "X_train, X_test, y_train, y_test = train_test_split(features, target, test_size=0.2, random_state=42)\n",
    "\n",
    "# Create a pipeline.\n",
    "pipeline = Pipeline([\n",
    "    ('vectorizer', TfidfVectorizer()),\n",
    "    ('classifier', DummyClassifier(strategy='most_frequent'))\n",
    "])\n",
    "\n",
    "# Train the pipeline on the training data.\n",
    "pipeline.fit(X_train, y_train)\n",
    "\n",
    "# Make predictions on the test data.\n",
    "y_pred = pipeline.predict(X_test)\n",
    "\n",
    "# Evaluate the model.\n",
    "accuracy = accuracy_score(y_test, y_pred)\n",
    "f1 = f1_score(y_test, y_pred)\n",
    "classification_report_str = classification_report(y_test, y_pred)\n",
    "\n",
    "print(\"Baseline Model - Dummy Classifier\")\n",
    "print(\"Accuracy:\", accuracy)\n",
    "print(\"F1-score:\", f1)\n",
    "print(\"Classification Report:\\n\", classification_report_str)\n"
   ]
  },
  {
   "cell_type": "markdown",
   "id": "1fdc29f2",
   "metadata": {
    "papermill": {
     "duration": 0.041404,
     "end_time": "2023-08-08T16:05:27.353026",
     "exception": false,
     "start_time": "2023-08-08T16:05:27.311622",
     "status": "completed"
    },
    "tags": []
   },
   "source": [
    "# Overall Nan values.\n",
    "1.  Total NaN values in \"TRAIN\" data column of reviewText: 0\n",
    "2.  Total NaN values in \"TEST\" data column of reviewText: 0"
   ]
  },
  {
   "cell_type": "markdown",
   "id": "f326268b",
   "metadata": {
    "papermill": {
     "duration": 0.040922,
     "end_time": "2023-08-08T16:05:27.435063",
     "exception": false,
     "start_time": "2023-08-08T16:05:27.394141",
     "status": "completed"
    },
    "tags": []
   },
   "source": [
    "**By merging the movies database with the df_train, we increase the number of features we can play with and find the insights of any relation any feature have with the target variable.**"
   ]
  },
  {
   "cell_type": "code",
   "execution_count": 15,
   "id": "ac1088e6",
   "metadata": {
    "execution": {
     "iopub.execute_input": "2023-08-08T16:05:27.519967Z",
     "iopub.status.busy": "2023-08-08T16:05:27.519144Z",
     "iopub.status.idle": "2023-08-08T16:05:27.829663Z",
     "shell.execute_reply": "2023-08-08T16:05:27.828356Z"
    },
    "papermill": {
     "duration": 0.356125,
     "end_time": "2023-08-08T16:05:27.832726",
     "exception": false,
     "start_time": "2023-08-08T16:05:27.476601",
     "status": "completed"
    },
    "tags": []
   },
   "outputs": [],
   "source": [
    "# We drop the duplicates the movies dataset has and then merge it with df_train.\n",
    "\n",
    "movies = movies.drop_duplicates(subset='movieid', keep='first')\n",
    "\n",
    "# We merge both of them on movieid and keep the first occurence of the row.\n",
    "df = pd.merge(df_train, movies, on='movieid')"
   ]
  },
  {
   "cell_type": "markdown",
   "id": "980969e5",
   "metadata": {
    "papermill": {
     "duration": 0.042765,
     "end_time": "2023-08-08T16:05:27.917696",
     "exception": false,
     "start_time": "2023-08-08T16:05:27.874931",
     "status": "completed"
    },
    "tags": []
   },
   "source": [
    "**Checking nan values in df.**"
   ]
  },
  {
   "cell_type": "code",
   "execution_count": 16,
   "id": "5c31ab33",
   "metadata": {
    "execution": {
     "iopub.execute_input": "2023-08-08T16:05:28.002909Z",
     "iopub.status.busy": "2023-08-08T16:05:28.002422Z",
     "iopub.status.idle": "2023-08-08T16:05:28.790570Z",
     "shell.execute_reply": "2023-08-08T16:05:28.789499Z"
    },
    "papermill": {
     "duration": 0.83377,
     "end_time": "2023-08-08T16:05:28.793079",
     "exception": false,
     "start_time": "2023-08-08T16:05:27.959309",
     "status": "completed"
    },
    "tags": []
   },
   "outputs": [
    {
     "data": {
      "text/plain": [
       "movieid                     0\n",
       "reviewerName                0\n",
       "isFrequentReviewer          0\n",
       "reviewText                  0\n",
       "sentiment                   0\n",
       "title                       0\n",
       "audienceScore           13248\n",
       "rating                  63724\n",
       "ratingContents          63724\n",
       "releaseDateTheaters     35834\n",
       "releaseDateStreaming    16185\n",
       "runtimeMinutes           3376\n",
       "genre                    2438\n",
       "originalLanguage         3290\n",
       "director                    0\n",
       "boxOffice               52776\n",
       "distributor             40663\n",
       "soundType               85367\n",
       "dtype: int64"
      ]
     },
     "execution_count": 16,
     "metadata": {},
     "output_type": "execute_result"
    }
   ],
   "source": [
    "df.isna().sum()"
   ]
  },
  {
   "cell_type": "markdown",
   "id": "94c90f28",
   "metadata": {
    "papermill": {
     "duration": 0.041484,
     "end_time": "2023-08-08T16:05:28.876422",
     "exception": false,
     "start_time": "2023-08-08T16:05:28.834938",
     "status": "completed"
    },
    "tags": []
   },
   "source": [
    "# **3. Imputation**"
   ]
  },
  {
   "cell_type": "markdown",
   "id": "20f55a5b",
   "metadata": {
    "papermill": {
     "duration": 0.041084,
     "end_time": "2023-08-08T16:05:28.959989",
     "exception": false,
     "start_time": "2023-08-08T16:05:28.918905",
     "status": "completed"
    },
    "tags": []
   },
   "source": [
    "**Fill NaN for numerical data on a training data by using SimpleImputer.**\n",
    ">We can fill the NaN values of those columns which will be required afterwards for processing on it by mean of the column features."
   ]
  },
  {
   "cell_type": "code",
   "execution_count": 17,
   "id": "ae2108ab",
   "metadata": {
    "execution": {
     "iopub.execute_input": "2023-08-08T16:05:29.046981Z",
     "iopub.status.busy": "2023-08-08T16:05:29.046553Z",
     "iopub.status.idle": "2023-08-08T16:05:29.177557Z",
     "shell.execute_reply": "2023-08-08T16:05:29.176270Z"
    },
    "papermill": {
     "duration": 0.177696,
     "end_time": "2023-08-08T16:05:29.180329",
     "exception": false,
     "start_time": "2023-08-08T16:05:29.002633",
     "status": "completed"
    },
    "tags": []
   },
   "outputs": [],
   "source": [
    "selected_columns = ['audienceScore','runtimeMinutes']\n",
    "\n",
    "# Initialize the imputer.\n",
    "imputer = SimpleImputer(strategy='mean')\n",
    "\n",
    "# Impute missing values in the selected columns.\n",
    "df[selected_columns] = imputer.fit_transform(df[selected_columns])\n"
   ]
  },
  {
   "cell_type": "markdown",
   "id": "555360b6",
   "metadata": {
    "papermill": {
     "duration": 0.042763,
     "end_time": "2023-08-08T16:05:29.264927",
     "exception": false,
     "start_time": "2023-08-08T16:05:29.222164",
     "status": "completed"
    },
    "tags": []
   },
   "source": [
    "**Fill NaN for categorical data on a training data.**\n",
    ">We can fill the NaN values of those columns which will be required afterwards for processing on it by mean of the column features."
   ]
  },
  {
   "cell_type": "code",
   "execution_count": 18,
   "id": "dbfa76e0",
   "metadata": {
    "execution": {
     "iopub.execute_input": "2023-08-08T16:05:29.349682Z",
     "iopub.status.busy": "2023-08-08T16:05:29.349292Z",
     "iopub.status.idle": "2023-08-08T16:05:29.733341Z",
     "shell.execute_reply": "2023-08-08T16:05:29.732314Z"
    },
    "papermill": {
     "duration": 0.429946,
     "end_time": "2023-08-08T16:05:29.735922",
     "exception": false,
     "start_time": "2023-08-08T16:05:29.305976",
     "status": "completed"
    },
    "tags": []
   },
   "outputs": [],
   "source": [
    "selected_columns = ['rating', 'ratingContents', 'genre', 'originalLanguage', 'distributor', 'soundType']\n",
    "\n",
    "# create a imputer for fill value with most frequent value.\n",
    "imputer = SimpleImputer(strategy = 'most_frequent')\n",
    "\n",
    "df[selected_columns] = imputer.fit_transform(df[selected_columns])"
   ]
  },
  {
   "cell_type": "markdown",
   "id": "1c35630b",
   "metadata": {
    "papermill": {
     "duration": 0.040614,
     "end_time": "2023-08-08T16:05:29.817740",
     "exception": false,
     "start_time": "2023-08-08T16:05:29.777126",
     "status": "completed"
    },
    "tags": []
   },
   "source": [
    "**Dealing with NaN value done.**"
   ]
  },
  {
   "cell_type": "markdown",
   "id": "851df249",
   "metadata": {
    "papermill": {
     "duration": 0.040772,
     "end_time": "2023-08-08T16:05:29.899645",
     "exception": false,
     "start_time": "2023-08-08T16:05:29.858873",
     "status": "completed"
    },
    "tags": []
   },
   "source": [
    "# **4. Feature processing**"
   ]
  },
  {
   "cell_type": "markdown",
   "id": "797e8512",
   "metadata": {
    "papermill": {
     "duration": 0.042241,
     "end_time": "2023-08-08T16:05:29.984114",
     "exception": false,
     "start_time": "2023-08-08T16:05:29.941873",
     "status": "completed"
    },
    "tags": []
   },
   "source": [
    "Coverting sentiments into labels."
   ]
  },
  {
   "cell_type": "markdown",
   "id": "832a4e1e",
   "metadata": {
    "papermill": {
     "duration": 0.042134,
     "end_time": "2023-08-08T16:05:30.068206",
     "exception": false,
     "start_time": "2023-08-08T16:05:30.026072",
     "status": "completed"
    },
    "tags": []
   },
   "source": [
    "**LabelEncoder**"
   ]
  },
  {
   "cell_type": "code",
   "execution_count": 19,
   "id": "4f0309c0",
   "metadata": {
    "execution": {
     "iopub.execute_input": "2023-08-08T16:05:30.152582Z",
     "iopub.status.busy": "2023-08-08T16:05:30.152157Z",
     "iopub.status.idle": "2023-08-08T16:05:30.211948Z",
     "shell.execute_reply": "2023-08-08T16:05:30.211061Z"
    },
    "papermill": {
     "duration": 0.105114,
     "end_time": "2023-08-08T16:05:30.214533",
     "exception": false,
     "start_time": "2023-08-08T16:05:30.109419",
     "status": "completed"
    },
    "tags": []
   },
   "outputs": [],
   "source": [
    "# Label sentiment with '0' and '1'.\n",
    "le = LabelEncoder()\n",
    "df['label'] = le.fit_transform(df['sentiment'])"
   ]
  },
  {
   "cell_type": "markdown",
   "id": "2e7383e1",
   "metadata": {
    "papermill": {
     "duration": 0.040738,
     "end_time": "2023-08-08T16:05:30.297021",
     "exception": false,
     "start_time": "2023-08-08T16:05:30.256283",
     "status": "completed"
    },
    "tags": []
   },
   "source": [
    "**Draw the heat map to find any correlation between features and target value.**"
   ]
  },
  {
   "cell_type": "code",
   "execution_count": 20,
   "id": "75f735cf",
   "metadata": {
    "execution": {
     "iopub.execute_input": "2023-08-08T16:05:30.382330Z",
     "iopub.status.busy": "2023-08-08T16:05:30.381667Z",
     "iopub.status.idle": "2023-08-08T16:05:30.390002Z",
     "shell.execute_reply": "2023-08-08T16:05:30.388975Z"
    },
    "papermill": {
     "duration": 0.053559,
     "end_time": "2023-08-08T16:05:30.392222",
     "exception": false,
     "start_time": "2023-08-08T16:05:30.338663",
     "status": "completed"
    },
    "tags": []
   },
   "outputs": [
    {
     "data": {
      "text/plain": [
       "['audienceScore', 'runtimeMinutes', 'label']"
      ]
     },
     "execution_count": 20,
     "metadata": {},
     "output_type": "execute_result"
    }
   ],
   "source": [
    "num_col = list(df.select_dtypes('number').columns)\n",
    "num_col"
   ]
  },
  {
   "cell_type": "markdown",
   "id": "3c4f54eb",
   "metadata": {
    "papermill": {
     "duration": 0.041388,
     "end_time": "2023-08-08T16:05:30.474904",
     "exception": false,
     "start_time": "2023-08-08T16:05:30.433516",
     "status": "completed"
    },
    "tags": []
   },
   "source": [
    "**Scale the audienceScore and runtimeMinutes in similar range.**"
   ]
  },
  {
   "cell_type": "code",
   "execution_count": 21,
   "id": "7023fd17",
   "metadata": {
    "execution": {
     "iopub.execute_input": "2023-08-08T16:05:30.559683Z",
     "iopub.status.busy": "2023-08-08T16:05:30.559053Z",
     "iopub.status.idle": "2023-08-08T16:05:30.673113Z",
     "shell.execute_reply": "2023-08-08T16:05:30.672081Z"
    },
    "papermill": {
     "duration": 0.15951,
     "end_time": "2023-08-08T16:05:30.675690",
     "exception": false,
     "start_time": "2023-08-08T16:05:30.516180",
     "status": "completed"
    },
    "tags": []
   },
   "outputs": [],
   "source": [
    "selected_columns = ['audienceScore', 'runtimeMinutes']\n",
    "ss = StandardScaler()\n",
    "df[selected_columns] = ss.fit_transform(df[selected_columns])"
   ]
  },
  {
   "cell_type": "markdown",
   "id": "e4f94e83",
   "metadata": {
    "papermill": {
     "duration": 0.041078,
     "end_time": "2023-08-08T16:05:30.758695",
     "exception": false,
     "start_time": "2023-08-08T16:05:30.717617",
     "status": "completed"
    },
    "tags": []
   },
   "source": [
    "# **Heat map**\n",
    "**Find correlation between them.**"
   ]
  },
  {
   "cell_type": "code",
   "execution_count": 22,
   "id": "d27f2ce7",
   "metadata": {
    "execution": {
     "iopub.execute_input": "2023-08-08T16:05:30.844077Z",
     "iopub.status.busy": "2023-08-08T16:05:30.843397Z",
     "iopub.status.idle": "2023-08-08T16:05:31.196140Z",
     "shell.execute_reply": "2023-08-08T16:05:31.194991Z"
    },
    "papermill": {
     "duration": 0.398078,
     "end_time": "2023-08-08T16:05:31.198540",
     "exception": false,
     "start_time": "2023-08-08T16:05:30.800462",
     "status": "completed"
    },
    "tags": []
   },
   "outputs": [
    {
     "data": {
      "image/png": "[encoded data removed]",
      "text/plain": [
       "<Figure size 1000x800 with 2 Axes>"
      ]
     },
     "metadata": {},
     "output_type": "display_data"
    }
   ],
   "source": [
    "# Select numerical features for correlation analysis\n",
    "numerical_features = ['audienceScore',\n",
    "                      'runtimeMinutes']\n",
    "\n",
    "# Calculate correlation matrix\n",
    "correlation_matrix = df[numerical_features].corr()\n",
    "\n",
    "# Plot correlation heatmap\n",
    "plt.figure(figsize=(10, 8))\n",
    "sns.heatmap(correlation_matrix, annot=True, cmap='coolwarm', center=0, fmt=\".2f\")\n",
    "plt.title(\"Correlation Heatmap of Sentiments and Numerical Features\")\n",
    "plt.show()"
   ]
  },
  {
   "cell_type": "markdown",
   "id": "a2da9442",
   "metadata": {
    "papermill": {
     "duration": 0.04291,
     "end_time": "2023-08-08T16:05:31.283339",
     "exception": false,
     "start_time": "2023-08-08T16:05:31.240429",
     "status": "completed"
    },
    "tags": []
   },
   "source": [
    "The plot shows that there is no strong correlation among features and taget_variable.\n",
    ">  as all values are quite below than 0.5."
   ]
  },
  {
   "cell_type": "markdown",
   "id": "1e2c254a",
   "metadata": {
    "papermill": {
     "duration": 0.042666,
     "end_time": "2023-08-08T16:05:31.368215",
     "exception": false,
     "start_time": "2023-08-08T16:05:31.325549",
     "status": "completed"
    },
    "tags": []
   },
   "source": [
    "**Find correlation for categorical features.**"
   ]
  },
  {
   "cell_type": "code",
   "execution_count": 23,
   "id": "fbd04d80",
   "metadata": {
    "execution": {
     "iopub.execute_input": "2023-08-08T16:05:31.454838Z",
     "iopub.status.busy": "2023-08-08T16:05:31.454163Z",
     "iopub.status.idle": "2023-08-08T16:05:31.491646Z",
     "shell.execute_reply": "2023-08-08T16:05:31.490484Z"
    },
    "papermill": {
     "duration": 0.083538,
     "end_time": "2023-08-08T16:05:31.493982",
     "exception": false,
     "start_time": "2023-08-08T16:05:31.410444",
     "status": "completed"
    },
    "tags": []
   },
   "outputs": [
    {
     "data": {
      "text/plain": [
       "['movieid',\n",
       " 'reviewerName',\n",
       " 'isFrequentReviewer',\n",
       " 'reviewText',\n",
       " 'sentiment',\n",
       " 'title',\n",
       " 'rating',\n",
       " 'ratingContents',\n",
       " 'releaseDateTheaters',\n",
       " 'releaseDateStreaming',\n",
       " 'genre',\n",
       " 'originalLanguage',\n",
       " 'director',\n",
       " 'boxOffice',\n",
       " 'distributor',\n",
       " 'soundType']"
      ]
     },
     "execution_count": 23,
     "metadata": {},
     "output_type": "execute_result"
    }
   ],
   "source": [
    "# find the categorical features.\n",
    "cat_columns = list(df.select_dtypes(exclude = 'number').columns)\n",
    "cat_columns"
   ]
  },
  {
   "cell_type": "markdown",
   "id": "b4bcb00d",
   "metadata": {
    "papermill": {
     "duration": 0.041948,
     "end_time": "2023-08-08T16:05:31.578028",
     "exception": false,
     "start_time": "2023-08-08T16:05:31.536080",
     "status": "completed"
    },
    "tags": []
   },
   "source": [
    "# **Cramer V**"
   ]
  },
  {
   "cell_type": "code",
   "execution_count": 24,
   "id": "293efb83",
   "metadata": {
    "execution": {
     "iopub.execute_input": "2023-08-08T16:05:31.664860Z",
     "iopub.status.busy": "2023-08-08T16:05:31.664209Z",
     "iopub.status.idle": "2023-08-08T16:05:36.682583Z",
     "shell.execute_reply": "2023-08-08T16:05:36.681404Z"
    },
    "papermill": {
     "duration": 5.064875,
     "end_time": "2023-08-08T16:05:36.685235",
     "exception": false,
     "start_time": "2023-08-08T16:05:31.620360",
     "status": "completed"
    },
    "tags": []
   },
   "outputs": [
    {
     "name": "stdout",
     "output_type": "stream",
     "text": [
      "Cramer's: 0.978576526338299\n"
     ]
    }
   ],
   "source": [
    "# Create a contingency table for the two categorical features\n",
    "ct = pd.crosstab([ df['reviewText']], df['sentiment'])\n",
    "\n",
    "# Perform Chi-squared test\n",
    "\n",
    "chi2, _, _, _ = chi2_contingency(ct)\n",
    "n = ct.sum().sum()\n",
    "phi2 = chi2 / n\n",
    "r, k = ct.shape\n",
    "cramer = np.sqrt(phi2 / min(r - 1, k - 1))\n",
    "\n",
    "print(\"Cramer's:\", cramer)\n",
    "# The value of Cramer's V ranges from 0 to 1, where 0 indicates no association, \n",
    "# and 1 indicates a perfect association between the categorical variables."
   ]
  },
  {
   "cell_type": "markdown",
   "id": "2b82f5a6",
   "metadata": {
    "papermill": {
     "duration": 0.042975,
     "end_time": "2023-08-08T16:05:36.770991",
     "exception": false,
     "start_time": "2023-08-08T16:05:36.728016",
     "status": "completed"
    },
    "tags": []
   },
   "source": [
    "# **Back to our reviewText feature.**"
   ]
  },
  {
   "cell_type": "markdown",
   "id": "bee10aa1",
   "metadata": {
    "papermill": {
     "duration": 0.042071,
     "end_time": "2023-08-08T16:05:36.855558",
     "exception": false,
     "start_time": "2023-08-08T16:05:36.813487",
     "status": "completed"
    },
    "tags": []
   },
   "source": [
    "**Train data**\n",
    "> **Remove integer values and patterns like \"1950s\", \"1960s\", \"20s\" etc, from the reviewText.**"
   ]
  },
  {
   "cell_type": "code",
   "execution_count": 25,
   "id": "b61caf86",
   "metadata": {
    "execution": {
     "iopub.execute_input": "2023-08-08T16:05:36.944652Z",
     "iopub.status.busy": "2023-08-08T16:05:36.944259Z",
     "iopub.status.idle": "2023-08-08T16:05:39.734249Z",
     "shell.execute_reply": "2023-08-08T16:05:39.732971Z"
    },
    "papermill": {
     "duration": 2.837512,
     "end_time": "2023-08-08T16:05:39.737218",
     "exception": false,
     "start_time": "2023-08-08T16:05:36.899706",
     "status": "completed"
    },
    "tags": []
   },
   "outputs": [],
   "source": [
    "# Function to remove integer values using regular expressions\n",
    "def preprocess_text(text):\n",
    "    # Remove integer values using regex pattern\n",
    "    processed_text = re.sub(r'\\b\\d+\\b', '', text)\n",
    "    # Remove specific patterns like \"1950s\", \"1960s\", \"1970s\", etc.\n",
    "    processed_text = re.sub(r'\\b(?:\\d+s|20th|21st)\\b', '', processed_text)\n",
    "    return processed_text\n",
    "\n",
    "# Apply preprocessing to 'reviewText' column\n",
    "df['reviewText_preprocessed'] = df['reviewText'].apply(preprocess_text)"
   ]
  },
  {
   "cell_type": "markdown",
   "id": "6f8fa500",
   "metadata": {
    "papermill": {
     "duration": 0.042536,
     "end_time": "2023-08-08T16:05:39.822346",
     "exception": false,
     "start_time": "2023-08-08T16:05:39.779810",
     "status": "completed"
    },
    "tags": []
   },
   "source": [
    "**Test data.**\n",
    "> **Remove integer values and patterns like \"1950s\", \"1960s\", \"20s\" etc, from the reviewText.**"
   ]
  },
  {
   "cell_type": "code",
   "execution_count": 26,
   "id": "ef78ca5b",
   "metadata": {
    "execution": {
     "iopub.execute_input": "2023-08-08T16:05:39.909774Z",
     "iopub.status.busy": "2023-08-08T16:05:39.909327Z",
     "iopub.status.idle": "2023-08-08T16:05:40.840990Z",
     "shell.execute_reply": "2023-08-08T16:05:40.839607Z"
    },
    "papermill": {
     "duration": 0.978731,
     "end_time": "2023-08-08T16:05:40.843996",
     "exception": false,
     "start_time": "2023-08-08T16:05:39.865265",
     "status": "completed"
    },
    "tags": []
   },
   "outputs": [],
   "source": [
    "# Apply preprocessing to 'reviewText' column on test data.\n",
    "df_test['reviewText_preprocessed'] = df_test['reviewText'].apply(preprocess_text)"
   ]
  },
  {
   "cell_type": "markdown",
   "id": "d431882d",
   "metadata": {
    "papermill": {
     "duration": 0.042003,
     "end_time": "2023-08-08T16:05:40.928883",
     "exception": false,
     "start_time": "2023-08-08T16:05:40.886880",
     "status": "completed"
    },
    "tags": []
   },
   "source": [
    "#  **4. Feature Engineering**"
   ]
  },
  {
   "cell_type": "markdown",
   "id": "8d275539",
   "metadata": {
    "papermill": {
     "duration": 0.041916,
     "end_time": "2023-08-08T16:05:41.013550",
     "exception": false,
     "start_time": "2023-08-08T16:05:40.971634",
     "status": "completed"
    },
    "tags": []
   },
   "source": [
    "**Preprocessing done with our new feature 'reviewText_preprocessed' by TfidfVectorizer.**"
   ]
  },
  {
   "cell_type": "markdown",
   "id": "d24aef31",
   "metadata": {
    "papermill": {
     "duration": 0.042938,
     "end_time": "2023-08-08T16:05:41.099147",
     "exception": false,
     "start_time": "2023-08-08T16:05:41.056209",
     "status": "completed"
    },
    "tags": []
   },
   "source": [
    "**Apply TfidfVectorizer**"
   ]
  },
  {
   "cell_type": "code",
   "execution_count": 27,
   "id": "40f693c4",
   "metadata": {
    "execution": {
     "iopub.execute_input": "2023-08-08T16:05:41.186818Z",
     "iopub.status.busy": "2023-08-08T16:05:41.186323Z",
     "iopub.status.idle": "2023-08-08T16:05:48.017930Z",
     "shell.execute_reply": "2023-08-08T16:05:48.016711Z"
    },
    "papermill": {
     "duration": 6.878887,
     "end_time": "2023-08-08T16:05:48.020827",
     "exception": false,
     "start_time": "2023-08-08T16:05:41.141940",
     "status": "completed"
    },
    "tags": []
   },
   "outputs": [],
   "source": [
    "# feature column.\n",
    "X = df[['reviewText_preprocessed']]\n",
    "\n",
    "# target column.\n",
    "y = df['label']\n",
    "\n",
    "# numerical representations of the text data using TfidfVectorizer.\n",
    "vectorizer = TfidfVectorizer(max_features=5000, stop_words='english')\n",
    "X_vec = vectorizer.fit_transform(X['reviewText_preprocessed'])\n",
    "\n",
    "# Convert X_vec back to a DataFrame with the remaining columns\n",
    "# X_numerical = pd.DataFrame(X_vec.toarray(), columns=vectorizer.get_feature_names_out(['reviewText_preprocessed']))\n",
    "\n",
    "# Transform the test data on the same process as use for train data.\n",
    "y_review = vectorizer.transform(df_test['reviewText_preprocessed'])\n"
   ]
  },
  {
   "cell_type": "markdown",
   "id": "97689cb6",
   "metadata": {
    "papermill": {
     "duration": 0.041943,
     "end_time": "2023-08-08T16:05:48.108763",
     "exception": false,
     "start_time": "2023-08-08T16:05:48.066820",
     "status": "completed"
    },
    "tags": []
   },
   "source": [
    "**Data spliting.**\n",
    "> Split the train preprocessed data for model learning into trainig and testing set."
   ]
  },
  {
   "cell_type": "code",
   "execution_count": 28,
   "id": "c0681b4a",
   "metadata": {
    "execution": {
     "iopub.execute_input": "2023-08-08T16:05:48.196358Z",
     "iopub.status.busy": "2023-08-08T16:05:48.195931Z",
     "iopub.status.idle": "2023-08-08T16:05:48.231291Z",
     "shell.execute_reply": "2023-08-08T16:05:48.230398Z"
    },
    "papermill": {
     "duration": 0.083126,
     "end_time": "2023-08-08T16:05:48.234705",
     "exception": false,
     "start_time": "2023-08-08T16:05:48.151579",
     "status": "completed"
    },
    "tags": []
   },
   "outputs": [],
   "source": [
    "# Split the data into training and testing sets.\n",
    "X_train, X_test, y_train, y_test = train_test_split(X_vec, y, test_size=0.2,random_state=42)"
   ]
  },
  {
   "cell_type": "markdown",
   "id": "8bd80317",
   "metadata": {
    "papermill": {
     "duration": 0.051576,
     "end_time": "2023-08-08T16:05:48.337964",
     "exception": false,
     "start_time": "2023-08-08T16:05:48.286388",
     "status": "completed"
    },
    "tags": []
   },
   "source": [
    "# **5. Feature selection.**"
   ]
  },
  {
   "cell_type": "markdown",
   "id": "4899e2e3",
   "metadata": {
    "papermill": {
     "duration": 0.042149,
     "end_time": "2023-08-08T16:05:48.423428",
     "exception": false,
     "start_time": "2023-08-08T16:05:48.381279",
     "status": "completed"
    },
    "tags": []
   },
   "source": [
    "**We have quite large number of feature need to be select only relevant feature.**"
   ]
  },
  {
   "cell_type": "markdown",
   "id": "27708139",
   "metadata": {
    "papermill": {
     "duration": 0.041795,
     "end_time": "2023-08-08T16:05:48.507808",
     "exception": false,
     "start_time": "2023-08-08T16:05:48.466013",
     "status": "completed"
    },
    "tags": []
   },
   "source": [
    "**We use 'SelectKBest'**"
   ]
  },
  {
   "cell_type": "code",
   "execution_count": 29,
   "id": "af488465",
   "metadata": {
    "execution": {
     "iopub.execute_input": "2023-08-08T16:05:48.595438Z",
     "iopub.status.busy": "2023-08-08T16:05:48.594748Z",
     "iopub.status.idle": "2023-08-08T16:05:48.715065Z",
     "shell.execute_reply": "2023-08-08T16:05:48.713448Z"
    },
    "papermill": {
     "duration": 0.169117,
     "end_time": "2023-08-08T16:05:48.719267",
     "exception": false,
     "start_time": "2023-08-08T16:05:48.550150",
     "status": "completed"
    },
    "tags": []
   },
   "outputs": [],
   "source": [
    "k = 2000\n",
    "selector = SelectKBest(score_func=f_regression, k=k)\n",
    "X_train_selected = selector.fit_transform(X_train, y_train)\n",
    "\n",
    "# Apply Feature Selection on validation data\n",
    "X_test_selected = selector.transform(X_test)\n",
    "\n",
    "# Apply Feature Selection on test data\n",
    "y_review_selected = selector.transform(y_review)"
   ]
  },
  {
   "cell_type": "markdown",
   "id": "77d3651d",
   "metadata": {
    "papermill": {
     "duration": 0.041929,
     "end_time": "2023-08-08T16:05:48.825366",
     "exception": false,
     "start_time": "2023-08-08T16:05:48.783437",
     "status": "completed"
    },
    "tags": []
   },
   "source": [
    "# **Model Selection.**\n",
    "> In sentiment analysis, our goal is to classify text data into different sentiment categories such as positive or negative.\n",
    "> Conclude that our problem is classification problem.\n",
    "> > **Candidates for model selection are:**\n",
    "> > > Naive Bayes, Logistic Regression, Support Vector Machines (SVM), Random Forests, Gradient Boosting Machines (GBM)."
   ]
  },
  {
   "cell_type": "markdown",
   "id": "0861d81f",
   "metadata": {
    "papermill": {
     "duration": 0.042064,
     "end_time": "2023-08-08T16:05:48.910249",
     "exception": false,
     "start_time": "2023-08-08T16:05:48.868185",
     "status": "completed"
    },
    "tags": []
   },
   "source": [
    "# **1. Naive Bayes.**"
   ]
  },
  {
   "cell_type": "code",
   "execution_count": 30,
   "id": "65c74c62",
   "metadata": {
    "execution": {
     "iopub.execute_input": "2023-08-08T16:05:48.999043Z",
     "iopub.status.busy": "2023-08-08T16:05:48.998606Z",
     "iopub.status.idle": "2023-08-08T16:05:49.003317Z",
     "shell.execute_reply": "2023-08-08T16:05:49.002151Z"
    },
    "papermill": {
     "duration": 0.051893,
     "end_time": "2023-08-08T16:05:49.005573",
     "exception": false,
     "start_time": "2023-08-08T16:05:48.953680",
     "status": "completed"
    },
    "tags": []
   },
   "outputs": [],
   "source": [
    "\n",
    "# # Create and train the naive bayes model.\n",
    "\n",
    "# model = MultinomialNB()\n",
    "\n",
    "# model.fit(X_train_selected, y_train)"
   ]
  },
  {
   "cell_type": "markdown",
   "id": "ba0e8983",
   "metadata": {
    "papermill": {
     "duration": 0.042102,
     "end_time": "2023-08-08T16:05:49.090430",
     "exception": false,
     "start_time": "2023-08-08T16:05:49.048328",
     "status": "completed"
    },
    "tags": []
   },
   "source": [
    "**Make predictions.**"
   ]
  },
  {
   "cell_type": "code",
   "execution_count": 31,
   "id": "904cc098",
   "metadata": {
    "execution": {
     "iopub.execute_input": "2023-08-08T16:05:49.177490Z",
     "iopub.status.busy": "2023-08-08T16:05:49.176610Z",
     "iopub.status.idle": "2023-08-08T16:05:49.181763Z",
     "shell.execute_reply": "2023-08-08T16:05:49.180514Z"
    },
    "papermill": {
     "duration": 0.051518,
     "end_time": "2023-08-08T16:05:49.184232",
     "exception": false,
     "start_time": "2023-08-08T16:05:49.132714",
     "status": "completed"
    },
    "tags": []
   },
   "outputs": [],
   "source": [
    "# # Predict using the trained classifier.\n",
    "# y_pred = model.predict(X_test_selected)"
   ]
  },
  {
   "cell_type": "code",
   "execution_count": 32,
   "id": "7b26e647",
   "metadata": {
    "execution": {
     "iopub.execute_input": "2023-08-08T16:05:49.271550Z",
     "iopub.status.busy": "2023-08-08T16:05:49.270727Z",
     "iopub.status.idle": "2023-08-08T16:05:49.275514Z",
     "shell.execute_reply": "2023-08-08T16:05:49.274692Z"
    },
    "papermill": {
     "duration": 0.05109,
     "end_time": "2023-08-08T16:05:49.277733",
     "exception": false,
     "start_time": "2023-08-08T16:05:49.226643",
     "status": "completed"
    },
    "tags": []
   },
   "outputs": [],
   "source": [
    "# np.count_nonzero(y_pred == 0)"
   ]
  },
  {
   "cell_type": "code",
   "execution_count": 33,
   "id": "325c59a9",
   "metadata": {
    "execution": {
     "iopub.execute_input": "2023-08-08T16:05:49.365902Z",
     "iopub.status.busy": "2023-08-08T16:05:49.365435Z",
     "iopub.status.idle": "2023-08-08T16:05:49.370664Z",
     "shell.execute_reply": "2023-08-08T16:05:49.369468Z"
    },
    "papermill": {
     "duration": 0.053343,
     "end_time": "2023-08-08T16:05:49.373336",
     "exception": false,
     "start_time": "2023-08-08T16:05:49.319993",
     "status": "completed"
    },
    "tags": []
   },
   "outputs": [],
   "source": [
    "# # Make predictions on the testing data\n",
    "# accuracy = accuracy_score(y_test, y_pred)\n",
    "# f1 = f1_score(y_test, y_pred)\n",
    "\n",
    "# print(\"Accuracy:\", accuracy)\n",
    "# print(\"F1-score:\", f1)\n",
    "\n"
   ]
  },
  {
   "cell_type": "markdown",
   "id": "3e1d2063",
   "metadata": {
    "papermill": {
     "duration": 0.042,
     "end_time": "2023-08-08T16:05:49.457614",
     "exception": false,
     "start_time": "2023-08-08T16:05:49.415614",
     "status": "completed"
    },
    "tags": []
   },
   "source": [
    "Accuracy: 0.7534713688867043\n",
    "> F1-score: 0.83790171086917"
   ]
  },
  {
   "cell_type": "markdown",
   "id": "80379b6e",
   "metadata": {
    "papermill": {
     "duration": 0.041885,
     "end_time": "2023-08-08T16:05:49.542047",
     "exception": false,
     "start_time": "2023-08-08T16:05:49.500162",
     "status": "completed"
    },
    "tags": []
   },
   "source": [
    "**Hyperparameter tuning on 'Naive Bayes'.**"
   ]
  },
  {
   "cell_type": "code",
   "execution_count": 34,
   "id": "b79175c5",
   "metadata": {
    "execution": {
     "iopub.execute_input": "2023-08-08T16:05:49.628378Z",
     "iopub.status.busy": "2023-08-08T16:05:49.627989Z",
     "iopub.status.idle": "2023-08-08T16:05:49.633090Z",
     "shell.execute_reply": "2023-08-08T16:05:49.631949Z"
    },
    "papermill": {
     "duration": 0.050957,
     "end_time": "2023-08-08T16:05:49.635374",
     "exception": false,
     "start_time": "2023-08-08T16:05:49.584417",
     "status": "completed"
    },
    "tags": []
   },
   "outputs": [],
   "source": [
    "\n",
    "# # hyperparameter used.\n",
    "# param_grid = {'alpha': [0.1, 0.5, 1.0, 2.0, 5.0]}\n",
    "\n",
    "# # cross-validation\n",
    "# grid_search = GridSearchCV(estimator = model, param_grid = param_grid, cv = 5)\n",
    "# grid_search.fit(X_train_selected, y_train)\n",
    "\n",
    "# # evaluate on the test data\n",
    "# best_alpha = grid_search.best_params_['alpha']\n",
    "# print(\"Best Alpha:\", best_alpha)\n",
    "\n",
    "# # create the final model\n",
    "# final_model = MultinomialNB(alpha=best_alpha)\n",
    "# final_model.fit(X_train_selected, y_train)\n",
    "\n",
    "# # Make predictions on the test data.\n",
    "# y_pred = final_model.predict(X_test_selected)\n",
    "\n",
    "# # Calculate accuracy\n",
    "# accuracy = accuracy_score(y_test, y_pred)\n",
    "# print(\"Accuracy:\", accuracy)"
   ]
  },
  {
   "cell_type": "markdown",
   "id": "1b832afe",
   "metadata": {
    "papermill": {
     "duration": 0.041835,
     "end_time": "2023-08-08T16:05:49.719573",
     "exception": false,
     "start_time": "2023-08-08T16:05:49.677738",
     "status": "completed"
    },
    "tags": []
   },
   "source": [
    "# **2. Logistic Regression.**"
   ]
  },
  {
   "cell_type": "code",
   "execution_count": 35,
   "id": "950d7b7a",
   "metadata": {
    "execution": {
     "iopub.execute_input": "2023-08-08T16:05:49.806051Z",
     "iopub.status.busy": "2023-08-08T16:05:49.804990Z",
     "iopub.status.idle": "2023-08-08T16:05:51.161941Z",
     "shell.execute_reply": "2023-08-08T16:05:51.160619Z"
    },
    "papermill": {
     "duration": 1.404741,
     "end_time": "2023-08-08T16:05:51.166439",
     "exception": false,
     "start_time": "2023-08-08T16:05:49.761698",
     "status": "completed"
    },
    "tags": []
   },
   "outputs": [
    {
     "name": "stderr",
     "output_type": "stream",
     "text": [
      "/opt/conda/lib/python3.10/site-packages/sklearn/linear_model/_logistic.py:458: ConvergenceWarning: lbfgs failed to converge (status=1):\n",
      "STOP: TOTAL NO. of ITERATIONS REACHED LIMIT.\n",
      "\n",
      "Increase the number of iterations (max_iter) or scale the data as shown in:\n",
      "    https://scikit-learn.org/stable/modules/preprocessing.html\n",
      "Please also refer to the documentation for alternative solver options:\n",
      "    https://scikit-learn.org/stable/modules/linear_model.html#logistic-regression\n",
      "  n_iter_i = _check_optimize_result(\n"
     ]
    },
    {
     "data": {
      "text/html": [
       "<style>#sk-container-id-1 {color: black;background-color: white;}#sk-container-id-1 pre{padding: 0;}#sk-container-id-1 div.sk-toggleable {background-color: white;}#sk-container-id-1 label.sk-toggleable__label {cursor: pointer;display: block;width: 100%;margin-bottom: 0;padding: 0.3em;box-sizing: border-box;text-align: center;}#sk-container-id-1 label.sk-toggleable__label-arrow:before {content: \"▸\";float: left;margin-right: 0.25em;color: #696969;}#sk-container-id-1 label.sk-toggleable__label-arrow:hover:before {color: black;}#sk-container-id-1 div.sk-estimator:hover label.sk-toggleable__label-arrow:before {color: black;}#sk-container-id-1 div.sk-toggleable__content {max-height: 0;max-width: 0;overflow: hidden;text-align: left;background-color: #f0f8ff;}#sk-container-id-1 div.sk-toggleable__content pre {margin: 0.2em;color: black;border-radius: 0.25em;background-color: #f0f8ff;}#sk-container-id-1 input.sk-toggleable__control:checked~div.sk-toggleable__content {max-height: 200px;max-width: 100%;overflow: auto;}#sk-container-id-1 input.sk-toggleable__control:checked~label.sk-toggleable__label-arrow:before {content: \"▾\";}#sk-container-id-1 div.sk-estimator input.sk-toggleable__control:checked~label.sk-toggleable__label {background-color: #d4ebff;}#sk-container-id-1 div.sk-label input.sk-toggleable__control:checked~label.sk-toggleable__label {background-color: #d4ebff;}#sk-container-id-1 input.sk-hidden--visually {border: 0;clip: rect(1px 1px 1px 1px);clip: rect(1px, 1px, 1px, 1px);height: 1px;margin: -1px;overflow: hidden;padding: 0;position: absolute;width: 1px;}#sk-container-id-1 div.sk-estimator {font-family: monospace;background-color: #f0f8ff;border: 1px dotted black;border-radius: 0.25em;box-sizing: border-box;margin-bottom: 0.5em;}#sk-container-id-1 div.sk-estimator:hover {background-color: #d4ebff;}#sk-container-id-1 div.sk-parallel-item::after {content: \"\";width: 100%;border-bottom: 1px solid gray;flex-grow: 1;}#sk-container-id-1 div.sk-label:hover label.sk-toggleable__label {background-color: #d4ebff;}#sk-container-id-1 div.sk-serial::before {content: \"\";position: absolute;border-left: 1px solid gray;box-sizing: border-box;top: 0;bottom: 0;left: 50%;z-index: 0;}#sk-container-id-1 div.sk-serial {display: flex;flex-direction: column;align-items: center;background-color: white;padding-right: 0.2em;padding-left: 0.2em;position: relative;}#sk-container-id-1 div.sk-item {position: relative;z-index: 1;}#sk-container-id-1 div.sk-parallel {display: flex;align-items: stretch;justify-content: center;background-color: white;position: relative;}#sk-container-id-1 div.sk-item::before, #sk-container-id-1 div.sk-parallel-item::before {content: \"\";position: absolute;border-left: 1px solid gray;box-sizing: border-box;top: 0;bottom: 0;left: 50%;z-index: -1;}#sk-container-id-1 div.sk-parallel-item {display: flex;flex-direction: column;z-index: 1;position: relative;background-color: white;}#sk-container-id-1 div.sk-parallel-item:first-child::after {align-self: flex-end;width: 50%;}#sk-container-id-1 div.sk-parallel-item:last-child::after {align-self: flex-start;width: 50%;}#sk-container-id-1 div.sk-parallel-item:only-child::after {width: 0;}#sk-container-id-1 div.sk-dashed-wrapped {border: 1px dashed gray;margin: 0 0.4em 0.5em 0.4em;box-sizing: border-box;padding-bottom: 0.4em;background-color: white;}#sk-container-id-1 div.sk-label label {font-family: monospace;font-weight: bold;display: inline-block;line-height: 1.2em;}#sk-container-id-1 div.sk-label-container {text-align: center;}#sk-container-id-1 div.sk-container {/* jupyter's `normalize.less` sets `[hidden] { display: none; }` but bootstrap.min.css set `[hidden] { display: none !important; }` so we also need the `!important` here to be able to override the default hidden behavior on the sphinx rendered scikit-learn.org. See: https://github.com/scikit-learn/scikit-learn/issues/21755 */display: inline-block !important;position: relative;}#sk-container-id-1 div.sk-text-repr-fallback {display: none;}</style><div id=\"sk-container-id-1\" class=\"sk-top-container\"><div class=\"sk-text-repr-fallback\"><pre>LogisticRegression()</pre><b>In a Jupyter environment, please rerun this cell to show the HTML representation or trust the notebook. <br />On GitHub, the HTML representation is unable to render, please try loading this page with nbviewer.org.</b></div><div class=\"sk-container\" hidden><div class=\"sk-item\"><div class=\"sk-estimator sk-toggleable\"><input class=\"sk-toggleable__control sk-hidden--visually\" id=\"sk-estimator-id-1\" type=\"checkbox\" checked><label for=\"sk-estimator-id-1\" class=\"sk-toggleable__label sk-toggleable__label-arrow\">LogisticRegression</label><div class=\"sk-toggleable__content\"><pre>LogisticRegression()</pre></div></div></div></div></div>"
      ],
      "text/plain": [
       "LogisticRegression()"
      ]
     },
     "execution_count": 35,
     "metadata": {},
     "output_type": "execute_result"
    }
   ],
   "source": [
    "# Create and train the logistic regression model.\n",
    "model = LogisticRegression()\n",
    "model.fit(X_train_selected, y_train)"
   ]
  },
  {
   "cell_type": "code",
   "execution_count": 36,
   "id": "255e6b9e",
   "metadata": {
    "execution": {
     "iopub.execute_input": "2023-08-08T16:05:51.254683Z",
     "iopub.status.busy": "2023-08-08T16:05:51.253887Z",
     "iopub.status.idle": "2023-08-08T16:05:51.258669Z",
     "shell.execute_reply": "2023-08-08T16:05:51.257833Z"
    },
    "papermill": {
     "duration": 0.051327,
     "end_time": "2023-08-08T16:05:51.260958",
     "exception": false,
     "start_time": "2023-08-08T16:05:51.209631",
     "status": "completed"
    },
    "tags": []
   },
   "outputs": [],
   "source": [
    "# #Predict using the trained classifier.\n",
    "# y_pred = model.predict(X_test_selected)"
   ]
  },
  {
   "cell_type": "code",
   "execution_count": 37,
   "id": "6e9fbe4d",
   "metadata": {
    "execution": {
     "iopub.execute_input": "2023-08-08T16:05:51.351269Z",
     "iopub.status.busy": "2023-08-08T16:05:51.350402Z",
     "iopub.status.idle": "2023-08-08T16:05:51.355359Z",
     "shell.execute_reply": "2023-08-08T16:05:51.354545Z"
    },
    "papermill": {
     "duration": 0.053942,
     "end_time": "2023-08-08T16:05:51.357660",
     "exception": false,
     "start_time": "2023-08-08T16:05:51.303718",
     "status": "completed"
    },
    "tags": []
   },
   "outputs": [],
   "source": [
    "# num_folds = 5  \n",
    "# scoring_metric = 'accuracy' \n",
    "\n",
    "# # Perform cross-validation\n",
    "# cv_scores = cross_val_score(model, X_train_selected, y_train, cv=num_folds, scoring=scoring_metric)"
   ]
  },
  {
   "cell_type": "code",
   "execution_count": 38,
   "id": "9bb1b4a0",
   "metadata": {
    "execution": {
     "iopub.execute_input": "2023-08-08T16:05:51.445730Z",
     "iopub.status.busy": "2023-08-08T16:05:51.445000Z",
     "iopub.status.idle": "2023-08-08T16:05:51.449903Z",
     "shell.execute_reply": "2023-08-08T16:05:51.448807Z"
    },
    "papermill": {
     "duration": 0.051319,
     "end_time": "2023-08-08T16:05:51.452375",
     "exception": false,
     "start_time": "2023-08-08T16:05:51.401056",
     "status": "completed"
    },
    "tags": []
   },
   "outputs": [],
   "source": [
    "# mean_cv_score = np.mean(cv_scores)\n",
    "# std_cv_score = np.std(cv_scores)\n"
   ]
  },
  {
   "cell_type": "code",
   "execution_count": 39,
   "id": "c5187502",
   "metadata": {
    "execution": {
     "iopub.execute_input": "2023-08-08T16:05:51.540330Z",
     "iopub.status.busy": "2023-08-08T16:05:51.539937Z",
     "iopub.status.idle": "2023-08-08T16:05:51.544693Z",
     "shell.execute_reply": "2023-08-08T16:05:51.543425Z"
    },
    "papermill": {
     "duration": 0.051496,
     "end_time": "2023-08-08T16:05:51.547212",
     "exception": false,
     "start_time": "2023-08-08T16:05:51.495716",
     "status": "completed"
    },
    "tags": []
   },
   "outputs": [],
   "source": [
    "# print(f'Cross-Validation {scoring_metric} Scores: {cv_scores}')\n",
    "# print(f'Mean {scoring_metric} Score: {mean_cv_score}')\n",
    "# print(f'Standard Deviation of {scoring_metric} Scores: {std_cv_score}')"
   ]
  },
  {
   "cell_type": "markdown",
   "id": "b5582c5e",
   "metadata": {
    "papermill": {
     "duration": 0.042101,
     "end_time": "2023-08-08T16:05:51.632025",
     "exception": false,
     "start_time": "2023-08-08T16:05:51.589924",
     "status": "completed"
    },
    "tags": []
   },
   "source": [
    "**Error Analysis.**"
   ]
  },
  {
   "cell_type": "code",
   "execution_count": 40,
   "id": "f4979006",
   "metadata": {
    "execution": {
     "iopub.execute_input": "2023-08-08T16:05:51.719162Z",
     "iopub.status.busy": "2023-08-08T16:05:51.718364Z",
     "iopub.status.idle": "2023-08-08T16:06:23.618536Z",
     "shell.execute_reply": "2023-08-08T16:06:23.617437Z"
    },
    "papermill": {
     "duration": 31.946631,
     "end_time": "2023-08-08T16:06:23.621059",
     "exception": false,
     "start_time": "2023-08-08T16:05:51.674428",
     "status": "completed"
    },
    "tags": []
   },
   "outputs": [
    {
     "name": "stderr",
     "output_type": "stream",
     "text": [
      "/opt/conda/lib/python3.10/site-packages/sklearn/linear_model/_logistic.py:458: ConvergenceWarning: lbfgs failed to converge (status=1):\n",
      "STOP: TOTAL NO. of ITERATIONS REACHED LIMIT.\n",
      "\n",
      "Increase the number of iterations (max_iter) or scale the data as shown in:\n",
      "    https://scikit-learn.org/stable/modules/preprocessing.html\n",
      "Please also refer to the documentation for alternative solver options:\n",
      "    https://scikit-learn.org/stable/modules/linear_model.html#logistic-regression\n",
      "  n_iter_i = _check_optimize_result(\n",
      "/opt/conda/lib/python3.10/site-packages/sklearn/linear_model/_logistic.py:458: ConvergenceWarning: lbfgs failed to converge (status=1):\n",
      "STOP: TOTAL NO. of ITERATIONS REACHED LIMIT.\n",
      "\n",
      "Increase the number of iterations (max_iter) or scale the data as shown in:\n",
      "    https://scikit-learn.org/stable/modules/preprocessing.html\n",
      "Please also refer to the documentation for alternative solver options:\n",
      "    https://scikit-learn.org/stable/modules/linear_model.html#logistic-regression\n",
      "  n_iter_i = _check_optimize_result(\n",
      "/opt/conda/lib/python3.10/site-packages/sklearn/linear_model/_logistic.py:458: ConvergenceWarning: lbfgs failed to converge (status=1):\n",
      "STOP: TOTAL NO. of ITERATIONS REACHED LIMIT.\n",
      "\n",
      "Increase the number of iterations (max_iter) or scale the data as shown in:\n",
      "    https://scikit-learn.org/stable/modules/preprocessing.html\n",
      "Please also refer to the documentation for alternative solver options:\n",
      "    https://scikit-learn.org/stable/modules/linear_model.html#logistic-regression\n",
      "  n_iter_i = _check_optimize_result(\n",
      "/opt/conda/lib/python3.10/site-packages/sklearn/linear_model/_logistic.py:458: ConvergenceWarning: lbfgs failed to converge (status=1):\n",
      "STOP: TOTAL NO. of ITERATIONS REACHED LIMIT.\n",
      "\n",
      "Increase the number of iterations (max_iter) or scale the data as shown in:\n",
      "    https://scikit-learn.org/stable/modules/preprocessing.html\n",
      "Please also refer to the documentation for alternative solver options:\n",
      "    https://scikit-learn.org/stable/modules/linear_model.html#logistic-regression\n",
      "  n_iter_i = _check_optimize_result(\n",
      "/opt/conda/lib/python3.10/site-packages/sklearn/linear_model/_logistic.py:458: ConvergenceWarning: lbfgs failed to converge (status=1):\n",
      "STOP: TOTAL NO. of ITERATIONS REACHED LIMIT.\n",
      "\n",
      "Increase the number of iterations (max_iter) or scale the data as shown in:\n",
      "    https://scikit-learn.org/stable/modules/preprocessing.html\n",
      "Please also refer to the documentation for alternative solver options:\n",
      "    https://scikit-learn.org/stable/modules/linear_model.html#logistic-regression\n",
      "  n_iter_i = _check_optimize_result(\n",
      "/opt/conda/lib/python3.10/site-packages/sklearn/linear_model/_logistic.py:458: ConvergenceWarning: lbfgs failed to converge (status=1):\n",
      "STOP: TOTAL NO. of ITERATIONS REACHED LIMIT.\n",
      "\n",
      "Increase the number of iterations (max_iter) or scale the data as shown in:\n",
      "    https://scikit-learn.org/stable/modules/preprocessing.html\n",
      "Please also refer to the documentation for alternative solver options:\n",
      "    https://scikit-learn.org/stable/modules/linear_model.html#logistic-regression\n",
      "  n_iter_i = _check_optimize_result(\n",
      "/opt/conda/lib/python3.10/site-packages/sklearn/linear_model/_logistic.py:458: ConvergenceWarning: lbfgs failed to converge (status=1):\n",
      "STOP: TOTAL NO. of ITERATIONS REACHED LIMIT.\n",
      "\n",
      "Increase the number of iterations (max_iter) or scale the data as shown in:\n",
      "    https://scikit-learn.org/stable/modules/preprocessing.html\n",
      "Please also refer to the documentation for alternative solver options:\n",
      "    https://scikit-learn.org/stable/modules/linear_model.html#logistic-regression\n",
      "  n_iter_i = _check_optimize_result(\n",
      "/opt/conda/lib/python3.10/site-packages/sklearn/linear_model/_logistic.py:458: ConvergenceWarning: lbfgs failed to converge (status=1):\n",
      "STOP: TOTAL NO. of ITERATIONS REACHED LIMIT.\n",
      "\n",
      "Increase the number of iterations (max_iter) or scale the data as shown in:\n",
      "    https://scikit-learn.org/stable/modules/preprocessing.html\n",
      "Please also refer to the documentation for alternative solver options:\n",
      "    https://scikit-learn.org/stable/modules/linear_model.html#logistic-regression\n",
      "  n_iter_i = _check_optimize_result(\n",
      "/opt/conda/lib/python3.10/site-packages/sklearn/linear_model/_logistic.py:458: ConvergenceWarning: lbfgs failed to converge (status=1):\n",
      "STOP: TOTAL NO. of ITERATIONS REACHED LIMIT.\n",
      "\n",
      "Increase the number of iterations (max_iter) or scale the data as shown in:\n",
      "    https://scikit-learn.org/stable/modules/preprocessing.html\n",
      "Please also refer to the documentation for alternative solver options:\n",
      "    https://scikit-learn.org/stable/modules/linear_model.html#logistic-regression\n",
      "  n_iter_i = _check_optimize_result(\n",
      "/opt/conda/lib/python3.10/site-packages/sklearn/linear_model/_logistic.py:458: ConvergenceWarning: lbfgs failed to converge (status=1):\n",
      "STOP: TOTAL NO. of ITERATIONS REACHED LIMIT.\n",
      "\n",
      "Increase the number of iterations (max_iter) or scale the data as shown in:\n",
      "    https://scikit-learn.org/stable/modules/preprocessing.html\n",
      "Please also refer to the documentation for alternative solver options:\n",
      "    https://scikit-learn.org/stable/modules/linear_model.html#logistic-regression\n",
      "  n_iter_i = _check_optimize_result(\n",
      "/opt/conda/lib/python3.10/site-packages/sklearn/linear_model/_logistic.py:458: ConvergenceWarning: lbfgs failed to converge (status=1):\n",
      "STOP: TOTAL NO. of ITERATIONS REACHED LIMIT.\n",
      "\n",
      "Increase the number of iterations (max_iter) or scale the data as shown in:\n",
      "    https://scikit-learn.org/stable/modules/preprocessing.html\n",
      "Please also refer to the documentation for alternative solver options:\n",
      "    https://scikit-learn.org/stable/modules/linear_model.html#logistic-regression\n",
      "  n_iter_i = _check_optimize_result(\n",
      "/opt/conda/lib/python3.10/site-packages/sklearn/linear_model/_logistic.py:458: ConvergenceWarning: lbfgs failed to converge (status=1):\n",
      "STOP: TOTAL NO. of ITERATIONS REACHED LIMIT.\n",
      "\n",
      "Increase the number of iterations (max_iter) or scale the data as shown in:\n",
      "    https://scikit-learn.org/stable/modules/preprocessing.html\n",
      "Please also refer to the documentation for alternative solver options:\n",
      "    https://scikit-learn.org/stable/modules/linear_model.html#logistic-regression\n",
      "  n_iter_i = _check_optimize_result(\n",
      "/opt/conda/lib/python3.10/site-packages/sklearn/linear_model/_logistic.py:458: ConvergenceWarning: lbfgs failed to converge (status=1):\n",
      "STOP: TOTAL NO. of ITERATIONS REACHED LIMIT.\n",
      "\n",
      "Increase the number of iterations (max_iter) or scale the data as shown in:\n",
      "    https://scikit-learn.org/stable/modules/preprocessing.html\n",
      "Please also refer to the documentation for alternative solver options:\n",
      "    https://scikit-learn.org/stable/modules/linear_model.html#logistic-regression\n",
      "  n_iter_i = _check_optimize_result(\n",
      "/opt/conda/lib/python3.10/site-packages/sklearn/linear_model/_logistic.py:458: ConvergenceWarning: lbfgs failed to converge (status=1):\n",
      "STOP: TOTAL NO. of ITERATIONS REACHED LIMIT.\n",
      "\n",
      "Increase the number of iterations (max_iter) or scale the data as shown in:\n",
      "    https://scikit-learn.org/stable/modules/preprocessing.html\n",
      "Please also refer to the documentation for alternative solver options:\n",
      "    https://scikit-learn.org/stable/modules/linear_model.html#logistic-regression\n",
      "  n_iter_i = _check_optimize_result(\n",
      "/opt/conda/lib/python3.10/site-packages/sklearn/linear_model/_logistic.py:458: ConvergenceWarning: lbfgs failed to converge (status=1):\n",
      "STOP: TOTAL NO. of ITERATIONS REACHED LIMIT.\n",
      "\n",
      "Increase the number of iterations (max_iter) or scale the data as shown in:\n",
      "    https://scikit-learn.org/stable/modules/preprocessing.html\n",
      "Please also refer to the documentation for alternative solver options:\n",
      "    https://scikit-learn.org/stable/modules/linear_model.html#logistic-regression\n",
      "  n_iter_i = _check_optimize_result(\n",
      "/opt/conda/lib/python3.10/site-packages/sklearn/linear_model/_logistic.py:458: ConvergenceWarning: lbfgs failed to converge (status=1):\n",
      "STOP: TOTAL NO. of ITERATIONS REACHED LIMIT.\n",
      "\n",
      "Increase the number of iterations (max_iter) or scale the data as shown in:\n",
      "    https://scikit-learn.org/stable/modules/preprocessing.html\n",
      "Please also refer to the documentation for alternative solver options:\n",
      "    https://scikit-learn.org/stable/modules/linear_model.html#logistic-regression\n",
      "  n_iter_i = _check_optimize_result(\n",
      "/opt/conda/lib/python3.10/site-packages/sklearn/linear_model/_logistic.py:458: ConvergenceWarning: lbfgs failed to converge (status=1):\n",
      "STOP: TOTAL NO. of ITERATIONS REACHED LIMIT.\n",
      "\n",
      "Increase the number of iterations (max_iter) or scale the data as shown in:\n",
      "    https://scikit-learn.org/stable/modules/preprocessing.html\n",
      "Please also refer to the documentation for alternative solver options:\n",
      "    https://scikit-learn.org/stable/modules/linear_model.html#logistic-regression\n",
      "  n_iter_i = _check_optimize_result(\n",
      "/opt/conda/lib/python3.10/site-packages/sklearn/linear_model/_logistic.py:458: ConvergenceWarning: lbfgs failed to converge (status=1):\n",
      "STOP: TOTAL NO. of ITERATIONS REACHED LIMIT.\n",
      "\n",
      "Increase the number of iterations (max_iter) or scale the data as shown in:\n",
      "    https://scikit-learn.org/stable/modules/preprocessing.html\n",
      "Please also refer to the documentation for alternative solver options:\n",
      "    https://scikit-learn.org/stable/modules/linear_model.html#logistic-regression\n",
      "  n_iter_i = _check_optimize_result(\n",
      "/opt/conda/lib/python3.10/site-packages/sklearn/linear_model/_logistic.py:458: ConvergenceWarning: lbfgs failed to converge (status=1):\n",
      "STOP: TOTAL NO. of ITERATIONS REACHED LIMIT.\n",
      "\n",
      "Increase the number of iterations (max_iter) or scale the data as shown in:\n",
      "    https://scikit-learn.org/stable/modules/preprocessing.html\n",
      "Please also refer to the documentation for alternative solver options:\n",
      "    https://scikit-learn.org/stable/modules/linear_model.html#logistic-regression\n",
      "  n_iter_i = _check_optimize_result(\n",
      "/opt/conda/lib/python3.10/site-packages/sklearn/linear_model/_logistic.py:458: ConvergenceWarning: lbfgs failed to converge (status=1):\n",
      "STOP: TOTAL NO. of ITERATIONS REACHED LIMIT.\n",
      "\n",
      "Increase the number of iterations (max_iter) or scale the data as shown in:\n",
      "    https://scikit-learn.org/stable/modules/preprocessing.html\n",
      "Please also refer to the documentation for alternative solver options:\n",
      "    https://scikit-learn.org/stable/modules/linear_model.html#logistic-regression\n",
      "  n_iter_i = _check_optimize_result(\n",
      "/opt/conda/lib/python3.10/site-packages/sklearn/linear_model/_logistic.py:458: ConvergenceWarning: lbfgs failed to converge (status=1):\n",
      "STOP: TOTAL NO. of ITERATIONS REACHED LIMIT.\n",
      "\n",
      "Increase the number of iterations (max_iter) or scale the data as shown in:\n",
      "    https://scikit-learn.org/stable/modules/preprocessing.html\n",
      "Please also refer to the documentation for alternative solver options:\n",
      "    https://scikit-learn.org/stable/modules/linear_model.html#logistic-regression\n",
      "  n_iter_i = _check_optimize_result(\n",
      "/opt/conda/lib/python3.10/site-packages/sklearn/linear_model/_logistic.py:458: ConvergenceWarning: lbfgs failed to converge (status=1):\n",
      "STOP: TOTAL NO. of ITERATIONS REACHED LIMIT.\n",
      "\n",
      "Increase the number of iterations (max_iter) or scale the data as shown in:\n",
      "    https://scikit-learn.org/stable/modules/preprocessing.html\n",
      "Please also refer to the documentation for alternative solver options:\n",
      "    https://scikit-learn.org/stable/modules/linear_model.html#logistic-regression\n",
      "  n_iter_i = _check_optimize_result(\n",
      "/opt/conda/lib/python3.10/site-packages/sklearn/linear_model/_logistic.py:458: ConvergenceWarning: lbfgs failed to converge (status=1):\n",
      "STOP: TOTAL NO. of ITERATIONS REACHED LIMIT.\n",
      "\n",
      "Increase the number of iterations (max_iter) or scale the data as shown in:\n",
      "    https://scikit-learn.org/stable/modules/preprocessing.html\n",
      "Please also refer to the documentation for alternative solver options:\n",
      "    https://scikit-learn.org/stable/modules/linear_model.html#logistic-regression\n",
      "  n_iter_i = _check_optimize_result(\n",
      "/opt/conda/lib/python3.10/site-packages/sklearn/linear_model/_logistic.py:458: ConvergenceWarning: lbfgs failed to converge (status=1):\n",
      "STOP: TOTAL NO. of ITERATIONS REACHED LIMIT.\n",
      "\n",
      "Increase the number of iterations (max_iter) or scale the data as shown in:\n",
      "    https://scikit-learn.org/stable/modules/preprocessing.html\n",
      "Please also refer to the documentation for alternative solver options:\n",
      "    https://scikit-learn.org/stable/modules/linear_model.html#logistic-regression\n",
      "  n_iter_i = _check_optimize_result(\n",
      "/opt/conda/lib/python3.10/site-packages/sklearn/linear_model/_logistic.py:458: ConvergenceWarning: lbfgs failed to converge (status=1):\n",
      "STOP: TOTAL NO. of ITERATIONS REACHED LIMIT.\n",
      "\n",
      "Increase the number of iterations (max_iter) or scale the data as shown in:\n",
      "    https://scikit-learn.org/stable/modules/preprocessing.html\n",
      "Please also refer to the documentation for alternative solver options:\n",
      "    https://scikit-learn.org/stable/modules/linear_model.html#logistic-regression\n",
      "  n_iter_i = _check_optimize_result(\n",
      "/opt/conda/lib/python3.10/site-packages/sklearn/linear_model/_logistic.py:458: ConvergenceWarning: lbfgs failed to converge (status=1):\n",
      "STOP: TOTAL NO. of ITERATIONS REACHED LIMIT.\n",
      "\n",
      "Increase the number of iterations (max_iter) or scale the data as shown in:\n",
      "    https://scikit-learn.org/stable/modules/preprocessing.html\n",
      "Please also refer to the documentation for alternative solver options:\n",
      "    https://scikit-learn.org/stable/modules/linear_model.html#logistic-regression\n",
      "  n_iter_i = _check_optimize_result(\n",
      "/opt/conda/lib/python3.10/site-packages/sklearn/linear_model/_logistic.py:458: ConvergenceWarning: lbfgs failed to converge (status=1):\n",
      "STOP: TOTAL NO. of ITERATIONS REACHED LIMIT.\n",
      "\n",
      "Increase the number of iterations (max_iter) or scale the data as shown in:\n",
      "    https://scikit-learn.org/stable/modules/preprocessing.html\n",
      "Please also refer to the documentation for alternative solver options:\n",
      "    https://scikit-learn.org/stable/modules/linear_model.html#logistic-regression\n",
      "  n_iter_i = _check_optimize_result(\n",
      "/opt/conda/lib/python3.10/site-packages/sklearn/linear_model/_logistic.py:458: ConvergenceWarning: lbfgs failed to converge (status=1):\n",
      "STOP: TOTAL NO. of ITERATIONS REACHED LIMIT.\n",
      "\n",
      "Increase the number of iterations (max_iter) or scale the data as shown in:\n",
      "    https://scikit-learn.org/stable/modules/preprocessing.html\n",
      "Please also refer to the documentation for alternative solver options:\n",
      "    https://scikit-learn.org/stable/modules/linear_model.html#logistic-regression\n",
      "  n_iter_i = _check_optimize_result(\n",
      "/opt/conda/lib/python3.10/site-packages/sklearn/linear_model/_logistic.py:458: ConvergenceWarning: lbfgs failed to converge (status=1):\n",
      "STOP: TOTAL NO. of ITERATIONS REACHED LIMIT.\n",
      "\n",
      "Increase the number of iterations (max_iter) or scale the data as shown in:\n",
      "    https://scikit-learn.org/stable/modules/preprocessing.html\n",
      "Please also refer to the documentation for alternative solver options:\n",
      "    https://scikit-learn.org/stable/modules/linear_model.html#logistic-regression\n",
      "  n_iter_i = _check_optimize_result(\n",
      "/opt/conda/lib/python3.10/site-packages/sklearn/linear_model/_logistic.py:458: ConvergenceWarning: lbfgs failed to converge (status=1):\n",
      "STOP: TOTAL NO. of ITERATIONS REACHED LIMIT.\n",
      "\n",
      "Increase the number of iterations (max_iter) or scale the data as shown in:\n",
      "    https://scikit-learn.org/stable/modules/preprocessing.html\n",
      "Please also refer to the documentation for alternative solver options:\n",
      "    https://scikit-learn.org/stable/modules/linear_model.html#logistic-regression\n",
      "  n_iter_i = _check_optimize_result(\n",
      "/opt/conda/lib/python3.10/site-packages/sklearn/linear_model/_logistic.py:458: ConvergenceWarning: lbfgs failed to converge (status=1):\n",
      "STOP: TOTAL NO. of ITERATIONS REACHED LIMIT.\n",
      "\n",
      "Increase the number of iterations (max_iter) or scale the data as shown in:\n",
      "    https://scikit-learn.org/stable/modules/preprocessing.html\n",
      "Please also refer to the documentation for alternative solver options:\n",
      "    https://scikit-learn.org/stable/modules/linear_model.html#logistic-regression\n",
      "  n_iter_i = _check_optimize_result(\n",
      "/opt/conda/lib/python3.10/site-packages/sklearn/linear_model/_logistic.py:458: ConvergenceWarning: lbfgs failed to converge (status=1):\n",
      "STOP: TOTAL NO. of ITERATIONS REACHED LIMIT.\n",
      "\n",
      "Increase the number of iterations (max_iter) or scale the data as shown in:\n",
      "    https://scikit-learn.org/stable/modules/preprocessing.html\n",
      "Please also refer to the documentation for alternative solver options:\n",
      "    https://scikit-learn.org/stable/modules/linear_model.html#logistic-regression\n",
      "  n_iter_i = _check_optimize_result(\n",
      "/opt/conda/lib/python3.10/site-packages/sklearn/linear_model/_logistic.py:458: ConvergenceWarning: lbfgs failed to converge (status=1):\n",
      "STOP: TOTAL NO. of ITERATIONS REACHED LIMIT.\n",
      "\n",
      "Increase the number of iterations (max_iter) or scale the data as shown in:\n",
      "    https://scikit-learn.org/stable/modules/preprocessing.html\n",
      "Please also refer to the documentation for alternative solver options:\n",
      "    https://scikit-learn.org/stable/modules/linear_model.html#logistic-regression\n",
      "  n_iter_i = _check_optimize_result(\n",
      "/opt/conda/lib/python3.10/site-packages/sklearn/linear_model/_logistic.py:458: ConvergenceWarning: lbfgs failed to converge (status=1):\n",
      "STOP: TOTAL NO. of ITERATIONS REACHED LIMIT.\n",
      "\n",
      "Increase the number of iterations (max_iter) or scale the data as shown in:\n",
      "    https://scikit-learn.org/stable/modules/preprocessing.html\n",
      "Please also refer to the documentation for alternative solver options:\n",
      "    https://scikit-learn.org/stable/modules/linear_model.html#logistic-regression\n",
      "  n_iter_i = _check_optimize_result(\n",
      "/opt/conda/lib/python3.10/site-packages/sklearn/linear_model/_logistic.py:458: ConvergenceWarning: lbfgs failed to converge (status=1):\n",
      "STOP: TOTAL NO. of ITERATIONS REACHED LIMIT.\n",
      "\n",
      "Increase the number of iterations (max_iter) or scale the data as shown in:\n",
      "    https://scikit-learn.org/stable/modules/preprocessing.html\n",
      "Please also refer to the documentation for alternative solver options:\n",
      "    https://scikit-learn.org/stable/modules/linear_model.html#logistic-regression\n",
      "  n_iter_i = _check_optimize_result(\n",
      "/opt/conda/lib/python3.10/site-packages/sklearn/linear_model/_logistic.py:458: ConvergenceWarning: lbfgs failed to converge (status=1):\n",
      "STOP: TOTAL NO. of ITERATIONS REACHED LIMIT.\n",
      "\n",
      "Increase the number of iterations (max_iter) or scale the data as shown in:\n",
      "    https://scikit-learn.org/stable/modules/preprocessing.html\n",
      "Please also refer to the documentation for alternative solver options:\n",
      "    https://scikit-learn.org/stable/modules/linear_model.html#logistic-regression\n",
      "  n_iter_i = _check_optimize_result(\n",
      "/opt/conda/lib/python3.10/site-packages/sklearn/linear_model/_logistic.py:458: ConvergenceWarning: lbfgs failed to converge (status=1):\n",
      "STOP: TOTAL NO. of ITERATIONS REACHED LIMIT.\n",
      "\n",
      "Increase the number of iterations (max_iter) or scale the data as shown in:\n",
      "    https://scikit-learn.org/stable/modules/preprocessing.html\n",
      "Please also refer to the documentation for alternative solver options:\n",
      "    https://scikit-learn.org/stable/modules/linear_model.html#logistic-regression\n",
      "  n_iter_i = _check_optimize_result(\n",
      "/opt/conda/lib/python3.10/site-packages/sklearn/linear_model/_logistic.py:458: ConvergenceWarning: lbfgs failed to converge (status=1):\n",
      "STOP: TOTAL NO. of ITERATIONS REACHED LIMIT.\n",
      "\n",
      "Increase the number of iterations (max_iter) or scale the data as shown in:\n",
      "    https://scikit-learn.org/stable/modules/preprocessing.html\n",
      "Please also refer to the documentation for alternative solver options:\n",
      "    https://scikit-learn.org/stable/modules/linear_model.html#logistic-regression\n",
      "  n_iter_i = _check_optimize_result(\n",
      "/opt/conda/lib/python3.10/site-packages/sklearn/linear_model/_logistic.py:458: ConvergenceWarning: lbfgs failed to converge (status=1):\n",
      "STOP: TOTAL NO. of ITERATIONS REACHED LIMIT.\n",
      "\n",
      "Increase the number of iterations (max_iter) or scale the data as shown in:\n",
      "    https://scikit-learn.org/stable/modules/preprocessing.html\n",
      "Please also refer to the documentation for alternative solver options:\n",
      "    https://scikit-learn.org/stable/modules/linear_model.html#logistic-regression\n",
      "  n_iter_i = _check_optimize_result(\n",
      "/opt/conda/lib/python3.10/site-packages/sklearn/linear_model/_logistic.py:458: ConvergenceWarning: lbfgs failed to converge (status=1):\n",
      "STOP: TOTAL NO. of ITERATIONS REACHED LIMIT.\n",
      "\n",
      "Increase the number of iterations (max_iter) or scale the data as shown in:\n",
      "    https://scikit-learn.org/stable/modules/preprocessing.html\n",
      "Please also refer to the documentation for alternative solver options:\n",
      "    https://scikit-learn.org/stable/modules/linear_model.html#logistic-regression\n",
      "  n_iter_i = _check_optimize_result(\n",
      "/opt/conda/lib/python3.10/site-packages/sklearn/linear_model/_logistic.py:458: ConvergenceWarning: lbfgs failed to converge (status=1):\n",
      "STOP: TOTAL NO. of ITERATIONS REACHED LIMIT.\n",
      "\n",
      "Increase the number of iterations (max_iter) or scale the data as shown in:\n",
      "    https://scikit-learn.org/stable/modules/preprocessing.html\n",
      "Please also refer to the documentation for alternative solver options:\n",
      "    https://scikit-learn.org/stable/modules/linear_model.html#logistic-regression\n",
      "  n_iter_i = _check_optimize_result(\n"
     ]
    },
    {
     "data": {
      "image/png": "[encoded data removed]",
      "text/plain": [
       "<Figure size 800x600 with 1 Axes>"
      ]
     },
     "metadata": {},
     "output_type": "display_data"
    }
   ],
   "source": [
    "# number of data points to use for the learning curve\n",
    "train_sizes = np.linspace(0.1, 1.0, 10)  # Use 10 evenly spaced values from 10% to 100% of the data\n",
    "\n",
    "# Compute the learning curve scores\n",
    "train_sizes, train_scores, val_scores = learning_curve(\n",
    "    model, X_train_selected, y_train, train_sizes=train_sizes, cv=5, scoring='accuracy'\n",
    ")\n",
    "\n",
    "# the mean and standard deviation of the train and validation scores\n",
    "mean_train_scores = np.mean(train_scores, axis=1)\n",
    "std_train_scores = np.std(train_scores, axis=1)\n",
    "mean_val_scores = np.mean(val_scores, axis=1)\n",
    "std_val_scores = np.std(val_scores, axis=1)\n",
    "\n",
    "# Plot the learning curves\n",
    "plt.figure(figsize=(8, 6))\n",
    "plt.plot(train_sizes, mean_train_scores, label='Training Score', color='blue')\n",
    "plt.fill_between(train_sizes, mean_train_scores - std_train_scores, mean_train_scores + std_train_scores, alpha=0.2, color='blue')\n",
    "plt.plot(train_sizes, mean_val_scores, label='Validation Score', color='red')\n",
    "plt.fill_between(train_sizes, mean_val_scores - std_val_scores, mean_val_scores + std_val_scores, alpha=0.2, color='red')\n",
    "plt.xlabel('Number of Training Samples')\n",
    "plt.ylabel('Accuracy')\n",
    "plt.title('Learning Curves')\n",
    "plt.legend()\n",
    "plt.grid(True)\n",
    "plt.show()\n"
   ]
  },
  {
   "cell_type": "markdown",
   "id": "f08c13fd",
   "metadata": {
    "papermill": {
     "duration": 0.04812,
     "end_time": "2023-08-08T16:06:23.718421",
     "exception": false,
     "start_time": "2023-08-08T16:06:23.670301",
     "status": "completed"
    },
    "tags": []
   },
   "source": [
    "**Inspect Misclassified Examples**"
   ]
  },
  {
   "cell_type": "code",
   "execution_count": 41,
   "id": "5e93a2d2",
   "metadata": {
    "execution": {
     "iopub.execute_input": "2023-08-08T16:06:23.816567Z",
     "iopub.status.busy": "2023-08-08T16:06:23.815935Z",
     "iopub.status.idle": "2023-08-08T16:06:24.130908Z",
     "shell.execute_reply": "2023-08-08T16:06:24.129921Z"
    },
    "papermill": {
     "duration": 0.366586,
     "end_time": "2023-08-08T16:06:24.133255",
     "exception": false,
     "start_time": "2023-08-08T16:06:23.766669",
     "status": "completed"
    },
    "tags": []
   },
   "outputs": [
    {
     "data": {
      "image/png": "[encoded data removed]",
      "text/plain": [
       "<Figure size 400x400 with 2 Axes>"
      ]
     },
     "metadata": {},
     "output_type": "display_data"
    }
   ],
   "source": [
    "# Calculate the confusion matrix\n",
    "cm = confusion_matrix(y_test, y_pred)\n",
    "\n",
    "# Plot the confusion matrix\n",
    "plt.figure(figsize=(4, 4))\n",
    "sns.heatmap(cm, annot=True, fmt='d', cmap='Blues', xticklabels=model.classes_, yticklabels=model.classes_)\n",
    "plt.xlabel('Predicted Labels')\n",
    "plt.ylabel('True Labels')\n",
    "plt.title('Confusion Matrix')\n",
    "plt.show()"
   ]
  },
  {
   "cell_type": "code",
   "execution_count": 42,
   "id": "ecdfd854",
   "metadata": {
    "execution": {
     "iopub.execute_input": "2023-08-08T16:06:24.232898Z",
     "iopub.status.busy": "2023-08-08T16:06:24.232144Z",
     "iopub.status.idle": "2023-08-08T16:06:26.959075Z",
     "shell.execute_reply": "2023-08-08T16:06:26.957844Z"
    },
    "papermill": {
     "duration": 2.779704,
     "end_time": "2023-08-08T16:06:26.961555",
     "exception": false,
     "start_time": "2023-08-08T16:06:24.181851",
     "status": "completed"
    },
    "tags": []
   },
   "outputs": [
    {
     "name": "stderr",
     "output_type": "stream",
     "text": [
      "/tmp/ipykernel_20/205954553.py:5: VisibleDeprecationWarning: Creating an ndarray from ragged nested sequences (which is a list-or-tuple of lists-or-tuples-or ndarrays with different lengths or shapes) is deprecated. If you meant to do this, you must specify 'dtype=object' when creating the ndarray.\n",
      "  original_text_reviews = np.array(original_text_reviews)\n"
     ]
    }
   ],
   "source": [
    "# Inverse transform of TF-IDF vectors.\n",
    "original_text_reviews = vectorizer.inverse_transform(X_test.toarray())\n",
    "\n",
    "# Convert original_text_reviews\n",
    "original_text_reviews = np.array(original_text_reviews)\n",
    "\n",
    "# Dictionary to hold misclassified text.\n",
    "misclassified_dict = {}\n",
    "\n",
    "# Populate the dictionary with misclassified.\n",
    "misclassified_indices = (y_test != y_pred)\n",
    "for review, true_label in zip(original_text_reviews[misclassified_indices], y_test[misclassified_indices]):\n",
    "    misclassified_text = ' '.join(review)\n",
    "    misclassified_dict[misclassified_text] = true_label"
   ]
  },
  {
   "cell_type": "code",
   "execution_count": 43,
   "id": "ca01dbe8",
   "metadata": {
    "execution": {
     "iopub.execute_input": "2023-08-08T16:06:27.060900Z",
     "iopub.status.busy": "2023-08-08T16:06:27.060426Z",
     "iopub.status.idle": "2023-08-08T16:06:27.076538Z",
     "shell.execute_reply": "2023-08-08T16:06:27.075376Z"
    },
    "papermill": {
     "duration": 0.06874,
     "end_time": "2023-08-08T16:06:27.079095",
     "exception": false,
     "start_time": "2023-08-08T16:06:27.010355",
     "status": "completed"
    },
    "tags": []
   },
   "outputs": [],
   "source": [
    "# Convert the misclassified_dict\n",
    "misclassified_df = pd.DataFrame.from_dict(misclassified_dict, orient='index', columns=['True_Label'])\n",
    "\n",
    "# Reset the index to rename the 'index' column as 'Misclassified_Review_Text'\n",
    "misclassified_df = misclassified_df.reset_index().rename(columns={'index': 'Misclassified_Review_Text'})"
   ]
  },
  {
   "cell_type": "code",
   "execution_count": 44,
   "id": "2dca76d8",
   "metadata": {
    "execution": {
     "iopub.execute_input": "2023-08-08T16:06:27.178058Z",
     "iopub.status.busy": "2023-08-08T16:06:27.177636Z",
     "iopub.status.idle": "2023-08-08T16:06:27.190225Z",
     "shell.execute_reply": "2023-08-08T16:06:27.189110Z"
    },
    "papermill": {
     "duration": 0.065208,
     "end_time": "2023-08-08T16:06:27.192643",
     "exception": false,
     "start_time": "2023-08-08T16:06:27.127435",
     "status": "completed"
    },
    "tags": []
   },
   "outputs": [
    {
     "data": {
      "text/html": [
       "<div>\n",
       "<style scoped>\n",
       "    .dataframe tbody tr th:only-of-type {\n",
       "        vertical-align: middle;\n",
       "    }\n",
       "\n",
       "    .dataframe tbody tr th {\n",
       "        vertical-align: top;\n",
       "    }\n",
       "\n",
       "    .dataframe thead th {\n",
       "        text-align: right;\n",
       "    }\n",
       "</style>\n",
       "<table border=\"1\" class=\"dataframe\">\n",
       "  <thead>\n",
       "    <tr style=\"text-align: right;\">\n",
       "      <th></th>\n",
       "      <th>Misclassified_Review_Text</th>\n",
       "      <th>True_Label</th>\n",
       "    </tr>\n",
       "  </thead>\n",
       "  <tbody>\n",
       "    <tr>\n",
       "      <th>0</th>\n",
       "      <td>actors bad endeavor movie moving possibly slow...</td>\n",
       "      <td>0</td>\n",
       "    </tr>\n",
       "    <tr>\n",
       "      <th>1</th>\n",
       "      <td>bag joy man shame silly title</td>\n",
       "      <td>0</td>\n",
       "    </tr>\n",
       "    <tr>\n",
       "      <th>2</th>\n",
       "      <td>arrives clich com destination familiar perform...</td>\n",
       "      <td>0</td>\n",
       "    </tr>\n",
       "    <tr>\n",
       "      <th>3</th>\n",
       "      <td>bad body dialogue fi hits kiss like melodrama ...</td>\n",
       "      <td>0</td>\n",
       "    </tr>\n",
       "    <tr>\n",
       "      <th>4</th>\n",
       "      <td>don high makers</td>\n",
       "      <td>0</td>\n",
       "    </tr>\n",
       "    <tr>\n",
       "      <th>...</th>\n",
       "      <td>...</td>\n",
       "      <td>...</td>\n",
       "    </tr>\n",
       "    <tr>\n",
       "      <th>10365</th>\n",
       "      <td>expected head left love</td>\n",
       "      <td>0</td>\n",
       "    </tr>\n",
       "    <tr>\n",
       "      <th>10366</th>\n",
       "      <td>excess exercise just messy</td>\n",
       "      <td>0</td>\n",
       "    </tr>\n",
       "    <tr>\n",
       "      <th>10367</th>\n",
       "      <td>affleck biggest busy fallen finding handles ho...</td>\n",
       "      <td>0</td>\n",
       "    </tr>\n",
       "    <tr>\n",
       "      <th>10368</th>\n",
       "      <td>apatow point probably problem say stuck</td>\n",
       "      <td>0</td>\n",
       "    </tr>\n",
       "    <tr>\n",
       "      <th>10369</th>\n",
       "      <td>button meandering murky old player push relent...</td>\n",
       "      <td>0</td>\n",
       "    </tr>\n",
       "  </tbody>\n",
       "</table>\n",
       "<p>10370 rows × 2 columns</p>\n",
       "</div>"
      ],
      "text/plain": [
       "                               Misclassified_Review_Text  True_Label\n",
       "0      actors bad endeavor movie moving possibly slow...           0\n",
       "1                          bag joy man shame silly title           0\n",
       "2      arrives clich com destination familiar perform...           0\n",
       "3      bad body dialogue fi hits kiss like melodrama ...           0\n",
       "4                                        don high makers           0\n",
       "...                                                  ...         ...\n",
       "10365                            expected head left love           0\n",
       "10366                         excess exercise just messy           0\n",
       "10367  affleck biggest busy fallen finding handles ho...           0\n",
       "10368            apatow point probably problem say stuck           0\n",
       "10369  button meandering murky old player push relent...           0\n",
       "\n",
       "[10370 rows x 2 columns]"
      ]
     },
     "execution_count": 44,
     "metadata": {},
     "output_type": "execute_result"
    }
   ],
   "source": [
    "misclassified_df"
   ]
  },
  {
   "cell_type": "markdown",
   "id": "db873dc8",
   "metadata": {
    "papermill": {
     "duration": 0.049271,
     "end_time": "2023-08-08T16:06:27.290567",
     "exception": false,
     "start_time": "2023-08-08T16:06:27.241296",
     "status": "completed"
    },
    "tags": []
   },
   "source": [
    "**Model Evaluation.**"
   ]
  },
  {
   "cell_type": "code",
   "execution_count": 45,
   "id": "358fbb99",
   "metadata": {
    "execution": {
     "iopub.execute_input": "2023-08-08T16:06:27.390237Z",
     "iopub.status.busy": "2023-08-08T16:06:27.389186Z",
     "iopub.status.idle": "2023-08-08T16:06:27.394226Z",
     "shell.execute_reply": "2023-08-08T16:06:27.393052Z"
    },
    "papermill": {
     "duration": 0.057726,
     "end_time": "2023-08-08T16:06:27.396913",
     "exception": false,
     "start_time": "2023-08-08T16:06:27.339187",
     "status": "completed"
    },
    "tags": []
   },
   "outputs": [],
   "source": [
    "# # Make predictions on the testing data\n",
    "# accuracy = accuracy_score(y_test, y_pred)\n",
    "# f1 = f1_score(y_test, y_pred)\n",
    "\n",
    "# print(\"Accuracy:\", accuracy)\n",
    "# print(\"F1-score:\", f1)\n",
    "# #print(\"Cross-validation scores:\", scores)\n",
    "\n"
   ]
  },
  {
   "cell_type": "markdown",
   "id": "d76e3615",
   "metadata": {
    "papermill": {
     "duration": 0.049379,
     "end_time": "2023-08-08T16:06:27.495548",
     "exception": false,
     "start_time": "2023-08-08T16:06:27.446169",
     "status": "completed"
    },
    "tags": []
   },
   "source": [
    "Accuracy: 0.7769722290489064\n",
    "> F1-score: 0.8432507124967614"
   ]
  },
  {
   "cell_type": "markdown",
   "id": "0e089f7e",
   "metadata": {
    "papermill": {
     "duration": 0.048698,
     "end_time": "2023-08-08T16:06:27.595627",
     "exception": false,
     "start_time": "2023-08-08T16:06:27.546929",
     "status": "completed"
    },
    "tags": []
   },
   "source": [
    "**Hyperparameter tuning on 'Logistic Regression.**"
   ]
  },
  {
   "cell_type": "code",
   "execution_count": 46,
   "id": "0419f025",
   "metadata": {
    "execution": {
     "iopub.execute_input": "2023-08-08T16:06:27.695864Z",
     "iopub.status.busy": "2023-08-08T16:06:27.695240Z",
     "iopub.status.idle": "2023-08-08T16:52:33.601934Z",
     "shell.execute_reply": "2023-08-08T16:52:33.600553Z"
    },
    "papermill": {
     "duration": 2766.011877,
     "end_time": "2023-08-08T16:52:33.657010",
     "exception": false,
     "start_time": "2023-08-08T16:06:27.645133",
     "status": "completed"
    },
    "tags": []
   },
   "outputs": [
    {
     "name": "stderr",
     "output_type": "stream",
     "text": [
      "/opt/conda/lib/python3.10/site-packages/sklearn/linear_model/_sag.py:350: ConvergenceWarning: The max_iter was reached which means the coef_ did not converge\n",
      "  warnings.warn(\n",
      "/opt/conda/lib/python3.10/site-packages/sklearn/linear_model/_sag.py:350: ConvergenceWarning: The max_iter was reached which means the coef_ did not converge\n",
      "  warnings.warn(\n",
      "/opt/conda/lib/python3.10/site-packages/sklearn/linear_model/_sag.py:350: ConvergenceWarning: The max_iter was reached which means the coef_ did not converge\n",
      "  warnings.warn(\n",
      "/opt/conda/lib/python3.10/site-packages/sklearn/linear_model/_sag.py:350: ConvergenceWarning: The max_iter was reached which means the coef_ did not converge\n",
      "  warnings.warn(\n",
      "/opt/conda/lib/python3.10/site-packages/sklearn/linear_model/_sag.py:350: ConvergenceWarning: The max_iter was reached which means the coef_ did not converge\n",
      "  warnings.warn(\n",
      "/opt/conda/lib/python3.10/site-packages/sklearn/linear_model/_sag.py:350: ConvergenceWarning: The max_iter was reached which means the coef_ did not converge\n",
      "  warnings.warn(\n",
      "/opt/conda/lib/python3.10/site-packages/sklearn/linear_model/_sag.py:350: ConvergenceWarning: The max_iter was reached which means the coef_ did not converge\n",
      "  warnings.warn(\n",
      "/opt/conda/lib/python3.10/site-packages/sklearn/linear_model/_sag.py:350: ConvergenceWarning: The max_iter was reached which means the coef_ did not converge\n",
      "  warnings.warn(\n"
     ]
    },
    {
     "name": "stdout",
     "output_type": "stream",
     "text": [
      "Best Hyperparameters: {'C': 10.0, 'class_weight': None, 'max_iter': 100, 'penalty': 'l2', 'solver': 'liblinear'}\n",
      "Accuracy on Test Data: 0.7774330302285574\n"
     ]
    }
   ],
   "source": [
    "# hyperparameter are:\n",
    "param_grid = {\n",
    "    'C': [0.1, 1.0, 10.0],\n",
    "    'penalty': ['l1', 'l2'],\n",
    "    'solver': ['liblinear', 'saga'],\n",
    "    'max_iter': [100, 200, 500],\n",
    "    'class_weight': [None, 'balanced']\n",
    "}\n",
    "\n",
    "# Create the GridSearchCV object\n",
    "grid_search = GridSearchCV(estimator = model, param_grid = param_grid, cv = 5, scoring = 'accuracy')\n",
    "\n",
    "# Fit the grid search to the training data\n",
    "grid_search.fit(X_train_selected, y_train)\n",
    "\n",
    "# Get the best hyperparameters\n",
    "best_params = grid_search.best_params_\n",
    "best_model = grid_search.best_estimator_\n",
    "\n",
    "# Evaluate the best model on the test data\n",
    "y_pred = best_model.predict(X_test_selected)\n",
    "accuracy = accuracy_score(y_test, y_pred)\n",
    "\n",
    "print(\"Best Hyperparameters:\", best_params)\n",
    "print(\"Accuracy on Test Data:\", accuracy)"
   ]
  },
  {
   "cell_type": "markdown",
   "id": "7eee2399",
   "metadata": {
    "papermill": {
     "duration": 0.050347,
     "end_time": "2023-08-08T16:52:33.758487",
     "exception": false,
     "start_time": "2023-08-08T16:52:33.708140",
     "status": "completed"
    },
    "tags": []
   },
   "source": [
    "Best Hyperparameters: {'C': 10.0, 'class_weight': None, 'max_iter': 100, 'penalty': 'l2', 'solver': 'liblinear'}\n",
    "> Accuracy on Test Data: 0.7774330302285574"
   ]
  },
  {
   "cell_type": "markdown",
   "id": "95530841",
   "metadata": {
    "papermill": {
     "duration": 0.049346,
     "end_time": "2023-08-08T16:52:33.857390",
     "exception": false,
     "start_time": "2023-08-08T16:52:33.808044",
     "status": "completed"
    },
    "tags": []
   },
   "source": [
    "# **3. SVM**"
   ]
  },
  {
   "cell_type": "code",
   "execution_count": 47,
   "id": "7a7f5c9d",
   "metadata": {
    "execution": {
     "iopub.execute_input": "2023-08-08T16:52:33.961555Z",
     "iopub.status.busy": "2023-08-08T16:52:33.961161Z",
     "iopub.status.idle": "2023-08-08T16:52:33.966310Z",
     "shell.execute_reply": "2023-08-08T16:52:33.965186Z"
    },
    "papermill": {
     "duration": 0.060699,
     "end_time": "2023-08-08T16:52:33.968687",
     "exception": false,
     "start_time": "2023-08-08T16:52:33.907988",
     "status": "completed"
    },
    "tags": []
   },
   "outputs": [],
   "source": [
    "\n",
    "# # # Create an SVM classifier\n",
    "# svm = SVC()\n",
    "\n",
    "# # # Fit the SVM model on the training data\n",
    "# svm.fit(X_train_selected, y_train)\n"
   ]
  },
  {
   "cell_type": "code",
   "execution_count": 48,
   "id": "795647dd",
   "metadata": {
    "execution": {
     "iopub.execute_input": "2023-08-08T16:52:34.072150Z",
     "iopub.status.busy": "2023-08-08T16:52:34.071388Z",
     "iopub.status.idle": "2023-08-08T16:52:34.075870Z",
     "shell.execute_reply": "2023-08-08T16:52:34.074995Z"
    },
    "papermill": {
     "duration": 0.058598,
     "end_time": "2023-08-08T16:52:34.077957",
     "exception": false,
     "start_time": "2023-08-08T16:52:34.019359",
     "status": "completed"
    },
    "tags": []
   },
   "outputs": [],
   "source": [
    "# predictions = svm.predict(X_test_selected)\n",
    "\n",
    "# # Calculate the accuracy of the model\n",
    "# accuracy = accuracy_score(y_test, predictions)\n",
    "# f1 = f1_score(y_test, predictions)\n",
    "\n",
    "# print(\"Accuracy:\", accuracy)\n",
    "# print(\"F1-score:\", f1)"
   ]
  },
  {
   "cell_type": "markdown",
   "id": "1d7c403c",
   "metadata": {
    "papermill": {
     "duration": 0.049029,
     "end_time": "2023-08-08T16:52:34.176732",
     "exception": false,
     "start_time": "2023-08-08T16:52:34.127703",
     "status": "completed"
    },
    "tags": []
   },
   "source": [
    "Accuracy: 0.7782317522732858\n",
    "> F1-score: 0.8443409448649115"
   ]
  },
  {
   "cell_type": "markdown",
   "id": "2640b803",
   "metadata": {
    "papermill": {
     "duration": 0.049787,
     "end_time": "2023-08-08T16:52:34.275825",
     "exception": false,
     "start_time": "2023-08-08T16:52:34.226038",
     "status": "completed"
    },
    "tags": []
   },
   "source": [
    "**SVM Hyperparameter tuning.**"
   ]
  },
  {
   "cell_type": "code",
   "execution_count": 49,
   "id": "649acae7",
   "metadata": {
    "execution": {
     "iopub.execute_input": "2023-08-08T16:52:34.378025Z",
     "iopub.status.busy": "2023-08-08T16:52:34.377270Z",
     "iopub.status.idle": "2023-08-08T16:52:34.382532Z",
     "shell.execute_reply": "2023-08-08T16:52:34.381441Z"
    },
    "papermill": {
     "duration": 0.059378,
     "end_time": "2023-08-08T16:52:34.384997",
     "exception": false,
     "start_time": "2023-08-08T16:52:34.325619",
     "status": "completed"
    },
    "tags": []
   },
   "outputs": [],
   "source": [
    "# # Define the hyperparameter grid to search\n",
    "# svm = SVC()\n",
    "# param_grid = {\n",
    "#     'C': [0.1, 1, 10, 100],           # Different values of C\n",
    "#     'kernel': ['linear', 'rbf'],      # Linear and RBF kernels\n",
    "#     'gamma': ['scale', 'auto']        # Different gamma options for RBF kernel\n",
    "# }\n",
    "\n",
    "# # Create a GridSearchCV\n",
    "# grid_search = GridSearchCV(estimator = svm, param_grid=param_grid, cv=5, n_jobs=-1)\n",
    "\n",
    "# # Perform the Grid Search on the training data\n",
    "# grid_search.fit(X_train_selected, y_train)\n",
    "\n",
    "# # Get the best hyperparameters found by Grid Search\n",
    "# best_params = grid_search.best_params_\n",
    "\n",
    "# # Train the SVM model with the best hyperparameters\n",
    "# best_svm_classifier = SVC(**best_params)\n",
    "# best_svm_classifier.fit(X_train_selected, y_train)\n",
    "\n",
    "# # Make predictions on the testing data\n",
    "# y_pred = best_svm_classifier.predict(X_test_selected)\n",
    "\n",
    "# # Evaluate the model performance\n",
    "# accuracy = accuracy_score(y_test, y_pred)\n",
    "# print(\"Best SVM Hyperparameters:\", best_params)\n",
    "# print(\"Accuracy:\", accuracy)\n"
   ]
  },
  {
   "cell_type": "markdown",
   "id": "b060e82d",
   "metadata": {
    "papermill": {
     "duration": 0.049505,
     "end_time": "2023-08-08T16:52:34.484543",
     "exception": false,
     "start_time": "2023-08-08T16:52:34.435038",
     "status": "completed"
    },
    "tags": []
   },
   "source": [
    "# **4. Decision Tree**"
   ]
  },
  {
   "cell_type": "code",
   "execution_count": 50,
   "id": "def62699",
   "metadata": {
    "execution": {
     "iopub.execute_input": "2023-08-08T16:52:34.586365Z",
     "iopub.status.busy": "2023-08-08T16:52:34.585419Z",
     "iopub.status.idle": "2023-08-08T16:52:34.590358Z",
     "shell.execute_reply": "2023-08-08T16:52:34.589219Z"
    },
    "papermill": {
     "duration": 0.058439,
     "end_time": "2023-08-08T16:52:34.592840",
     "exception": false,
     "start_time": "2023-08-08T16:52:34.534401",
     "status": "completed"
    },
    "tags": []
   },
   "outputs": [],
   "source": [
    "# # Create DecisionTreeClassifier classifier.\n",
    "# model = DecisionTreeClassifier()\n",
    "# model.fit(X_train_selected,y_train)"
   ]
  },
  {
   "cell_type": "code",
   "execution_count": 51,
   "id": "5297fe03",
   "metadata": {
    "execution": {
     "iopub.execute_input": "2023-08-08T16:52:34.695041Z",
     "iopub.status.busy": "2023-08-08T16:52:34.694301Z",
     "iopub.status.idle": "2023-08-08T16:52:34.698576Z",
     "shell.execute_reply": "2023-08-08T16:52:34.697687Z"
    },
    "papermill": {
     "duration": 0.057963,
     "end_time": "2023-08-08T16:52:34.700895",
     "exception": false,
     "start_time": "2023-08-08T16:52:34.642932",
     "status": "completed"
    },
    "tags": []
   },
   "outputs": [],
   "source": [
    "# # Make predictions.\n",
    "# y_pred = model.predict(X_test_selected)\n",
    "# accuracy = accuracy_score(y_test, y_pred)\n",
    "# f1 = f1_score(y_test, y_pred)\n",
    "\n",
    "# print('Accuracy:', accuracy)\n",
    "# print(\"F1-score:\", f1)"
   ]
  },
  {
   "cell_type": "markdown",
   "id": "9b4fa413",
   "metadata": {
    "papermill": {
     "duration": 0.049243,
     "end_time": "2023-08-08T16:52:34.800135",
     "exception": false,
     "start_time": "2023-08-08T16:52:34.750892",
     "status": "completed"
    },
    "tags": []
   },
   "source": [
    "**Hyperparameter tuning for Decision tree**"
   ]
  },
  {
   "cell_type": "code",
   "execution_count": 52,
   "id": "060fad8c",
   "metadata": {
    "execution": {
     "iopub.execute_input": "2023-08-08T16:52:34.901052Z",
     "iopub.status.busy": "2023-08-08T16:52:34.900634Z",
     "iopub.status.idle": "2023-08-08T16:52:34.905474Z",
     "shell.execute_reply": "2023-08-08T16:52:34.904625Z"
    },
    "papermill": {
     "duration": 0.058199,
     "end_time": "2023-08-08T16:52:34.907669",
     "exception": false,
     "start_time": "2023-08-08T16:52:34.849470",
     "status": "completed"
    },
    "tags": []
   },
   "outputs": [],
   "source": [
    "# param_grid = {\n",
    "#     'max_depth': [ 5, 10, 15],\n",
    "#     'min_samples_split': [2, 5, 10],\n",
    "#     'min_samples_leaf': [1, 2, 4],\n",
    "#     'max_features': ['sqrt', 'log2']\n",
    "# }\n",
    "\n",
    "# # Create GridSearchCV object\n",
    "# grid_search = GridSearchCV(estimator = model, param_grid = param_grid, cv=5)\n",
    "\n",
    "# # Fit the GridSearchCV on the training data\n",
    "# grid_search.fit(X_train_selected, y_train)\n",
    "\n",
    "# # Get the best hyperparameters\n",
    "# best_params = grid_search.best_params_\n",
    "\n",
    "# # Access the best model.\n",
    "# best_model = grid_search.best_estimator_\n",
    "\n",
    "# # Make predictions on the test set\n",
    "# y_pred = best_model.predict(X_test_selected)\n",
    "\n",
    "# # Evaluate the model's performance\n",
    "# accuracy = accuracy_score(y_test, y_pred)\n",
    "# f1 = f1_score(y_test, y_pred)\n",
    "\n",
    "# print('Accuracy:', accuracy)\n",
    "# print(\"F1-score:\", f1)"
   ]
  },
  {
   "cell_type": "markdown",
   "id": "9d2e6ab1",
   "metadata": {
    "papermill": {
     "duration": 0.049715,
     "end_time": "2023-08-08T16:52:35.008068",
     "exception": false,
     "start_time": "2023-08-08T16:52:34.958353",
     "status": "completed"
    },
    "tags": []
   },
   "source": [
    "Accuracy: 0.67169451953797\n",
    "> F1-score: 0.7963566378932526"
   ]
  },
  {
   "cell_type": "markdown",
   "id": "0215148b",
   "metadata": {
    "papermill": {
     "duration": 0.049317,
     "end_time": "2023-08-08T16:52:35.107266",
     "exception": false,
     "start_time": "2023-08-08T16:52:35.057949",
     "status": "completed"
    },
    "tags": []
   },
   "source": [
    "# **5. KNN**"
   ]
  },
  {
   "cell_type": "code",
   "execution_count": 53,
   "id": "e73fe564",
   "metadata": {
    "execution": {
     "iopub.execute_input": "2023-08-08T16:52:35.208840Z",
     "iopub.status.busy": "2023-08-08T16:52:35.208084Z",
     "iopub.status.idle": "2023-08-08T16:52:35.212422Z",
     "shell.execute_reply": "2023-08-08T16:52:35.211458Z"
    },
    "papermill": {
     "duration": 0.057936,
     "end_time": "2023-08-08T16:52:35.214921",
     "exception": false,
     "start_time": "2023-08-08T16:52:35.156985",
     "status": "completed"
    },
    "tags": []
   },
   "outputs": [],
   "source": [
    "# # Create and train the KNN model.\n",
    "\n",
    "# knn = KNeighborsClassifier()\n",
    "# knn.fit(X_train_selected, y_train)\n"
   ]
  },
  {
   "cell_type": "code",
   "execution_count": 54,
   "id": "dfeb4b51",
   "metadata": {
    "execution": {
     "iopub.execute_input": "2023-08-08T16:52:35.320526Z",
     "iopub.status.busy": "2023-08-08T16:52:35.319403Z",
     "iopub.status.idle": "2023-08-08T16:52:35.324496Z",
     "shell.execute_reply": "2023-08-08T16:52:35.323261Z"
    },
    "papermill": {
     "duration": 0.060575,
     "end_time": "2023-08-08T16:52:35.327010",
     "exception": false,
     "start_time": "2023-08-08T16:52:35.266435",
     "status": "completed"
    },
    "tags": []
   },
   "outputs": [],
   "source": [
    "# # Predict using the trained classifier.\n",
    "# y_pred = knn.predict(X_test_selected)\n",
    "\n",
    "# # Make predictions on the testing data\n",
    "# accuracy = accuracy_score(y_test, y_pred)\n",
    "# f1 = f1_score(y_test, y_pred)\n",
    "\n",
    "# print('Accuracy:', accuracy)\n",
    "# print(\"F1-score:\", f1)"
   ]
  },
  {
   "cell_type": "markdown",
   "id": "bdf753ec",
   "metadata": {
    "papermill": {
     "duration": 0.049355,
     "end_time": "2023-08-08T16:52:35.427650",
     "exception": false,
     "start_time": "2023-08-08T16:52:35.378295",
     "status": "completed"
    },
    "tags": []
   },
   "source": [
    "Accuracy: 0.6787601376259523\n",
    "> F1-score: 0.7664649261897849"
   ]
  },
  {
   "cell_type": "markdown",
   "id": "3e41d63e",
   "metadata": {
    "papermill": {
     "duration": 0.049224,
     "end_time": "2023-08-08T16:52:35.526973",
     "exception": false,
     "start_time": "2023-08-08T16:52:35.477749",
     "status": "completed"
    },
    "tags": []
   },
   "source": [
    "**Hyperparameter tuning for KNN.**"
   ]
  },
  {
   "cell_type": "code",
   "execution_count": 55,
   "id": "dcda9c1c",
   "metadata": {
    "execution": {
     "iopub.execute_input": "2023-08-08T16:52:35.628038Z",
     "iopub.status.busy": "2023-08-08T16:52:35.627364Z",
     "iopub.status.idle": "2023-08-08T16:52:35.632417Z",
     "shell.execute_reply": "2023-08-08T16:52:35.631464Z"
    },
    "papermill": {
     "duration": 0.057776,
     "end_time": "2023-08-08T16:52:35.634662",
     "exception": false,
     "start_time": "2023-08-08T16:52:35.576886",
     "status": "completed"
    },
    "tags": []
   },
   "outputs": [],
   "source": [
    "# # hyperparameter are:\n",
    "# param_grid = {\n",
    "#     'n_neighbors': [3, 5, 7, 9],  \n",
    "#     'metric': ['euclidean', 'manhattan'] \n",
    "# }\n",
    "\n",
    "# # cross-validation\n",
    "# grid_search = GridSearchCV(knn, param_grid, cv=5, scoring='accuracy')\n",
    "\n",
    "# # Fit the grid search on your training data\n",
    "# grid_search.fit(X_train_selected, y_train)\n",
    "\n",
    "# # Get the best hyperparameters\n",
    "# best_params = grid_search.best_params_\n",
    "# print(\"Best Hyperparameters:\", best_params)\n",
    "\n",
    "# # Retrieve the best model\n",
    "# best_knn_model = grid_search.best_estimator_\n",
    "\n",
    "# # Make predictions on the validation data\n",
    "# y_pred_val = best_knn_model.predict(X_test_selected)\n",
    "\n",
    "# # Evaluate the model performance on the validation data\n",
    "# accuracy_val = accuracy_score(y_val, y_pred_val)\n",
    "# print(\"Validation Accuracy:\", accuracy_val)"
   ]
  },
  {
   "cell_type": "markdown",
   "id": "5fec4c75",
   "metadata": {
    "papermill": {
     "duration": 0.050779,
     "end_time": "2023-08-08T16:52:35.737387",
     "exception": false,
     "start_time": "2023-08-08T16:52:35.686608",
     "status": "completed"
    },
    "tags": []
   },
   "source": [
    "Best Hyperparameters: {'metric': 'euclidean', 'n_neighbors': 9}\n",
    "> Validation Accuracy: 0.6931371344310642\n"
   ]
  },
  {
   "cell_type": "markdown",
   "id": "70345520",
   "metadata": {
    "papermill": {
     "duration": 0.049126,
     "end_time": "2023-08-08T16:52:35.836376",
     "exception": false,
     "start_time": "2023-08-08T16:52:35.787250",
     "status": "completed"
    },
    "tags": []
   },
   "source": [
    "# **6. Bagging algo with decision tree classifier.**"
   ]
  },
  {
   "cell_type": "code",
   "execution_count": 56,
   "id": "24e6ae53",
   "metadata": {
    "execution": {
     "iopub.execute_input": "2023-08-08T16:52:35.938993Z",
     "iopub.status.busy": "2023-08-08T16:52:35.938194Z",
     "iopub.status.idle": "2023-08-08T16:52:35.942380Z",
     "shell.execute_reply": "2023-08-08T16:52:35.941514Z"
    },
    "papermill": {
     "duration": 0.05754,
     "end_time": "2023-08-08T16:52:35.944609",
     "exception": false,
     "start_time": "2023-08-08T16:52:35.887069",
     "status": "completed"
    },
    "tags": []
   },
   "outputs": [],
   "source": [
    "# # Create and train the bagging classifier.\n",
    "\n",
    "# base_classifier = DecisionTreeClassifier() \n",
    "# bagging = BaggingClassifier(base_classifier, n_estimators=10, random_state=42) \n",
    "# bagging.fit(X_train_selected, y_train)\n"
   ]
  },
  {
   "cell_type": "code",
   "execution_count": 57,
   "id": "98a727ef",
   "metadata": {
    "execution": {
     "iopub.execute_input": "2023-08-08T16:52:36.049149Z",
     "iopub.status.busy": "2023-08-08T16:52:36.048535Z",
     "iopub.status.idle": "2023-08-08T16:52:36.052491Z",
     "shell.execute_reply": "2023-08-08T16:52:36.051708Z"
    },
    "papermill": {
     "duration": 0.058383,
     "end_time": "2023-08-08T16:52:36.054596",
     "exception": false,
     "start_time": "2023-08-08T16:52:35.996213",
     "status": "completed"
    },
    "tags": []
   },
   "outputs": [],
   "source": [
    "# # Make predictions\n",
    "\n",
    "# y_pred = bagging.predict(X_test_selected)\n",
    "# accuracy = accuracy_score(y_test, y_pred)\n",
    "# f1 = f1_score(y_test, y_pred)\n",
    "\n",
    "# print('Accuracy:', accuracy)\n",
    "# print(\"F1-score:\", f1)"
   ]
  },
  {
   "cell_type": "markdown",
   "id": "26466278",
   "metadata": {
    "papermill": {
     "duration": 0.049872,
     "end_time": "2023-08-08T16:52:36.154230",
     "exception": false,
     "start_time": "2023-08-08T16:52:36.104358",
     "status": "completed"
    },
    "tags": []
   },
   "source": [
    "Accuracy: 0.7135352666502827\n",
    "> F1-score: 0.789660072632125\n"
   ]
  },
  {
   "cell_type": "markdown",
   "id": "b175d3cb",
   "metadata": {
    "papermill": {
     "duration": 0.05049,
     "end_time": "2023-08-08T16:52:36.254089",
     "exception": false,
     "start_time": "2023-08-08T16:52:36.203599",
     "status": "completed"
    },
    "tags": []
   },
   "source": [
    "**Hyperparameter tuning for begging algo.**"
   ]
  },
  {
   "cell_type": "code",
   "execution_count": 58,
   "id": "6ac2d9e9",
   "metadata": {
    "execution": {
     "iopub.execute_input": "2023-08-08T16:52:36.356455Z",
     "iopub.status.busy": "2023-08-08T16:52:36.355842Z",
     "iopub.status.idle": "2023-08-08T16:52:36.360527Z",
     "shell.execute_reply": "2023-08-08T16:52:36.359795Z"
    },
    "papermill": {
     "duration": 0.058719,
     "end_time": "2023-08-08T16:52:36.362735",
     "exception": false,
     "start_time": "2023-08-08T16:52:36.304016",
     "status": "completed"
    },
    "tags": []
   },
   "outputs": [],
   "source": [
    "\n",
    "# # Create the base estimator (Decision Tree Classifier)\n",
    "# base_estimator = DecisionTreeClassifier()\n",
    "\n",
    "# # Create the Bagging classifier\n",
    "# bagging_classifier = BaggingClassifier(base_estimator=base_estimator, random_state=42)\n",
    "\n",
    "# # Define the hyperparameter grid to explore\n",
    "# param_grid = {\n",
    "#     'n_estimators': [50, 100, 200], \n",
    "#     'base_estimator__max_depth': [None, 3, 5], \n",
    "#     'base_estimator__min_samples_split': [2, 5, 10],\n",
    "# }\n",
    "\n",
    "#  cross-validation\n",
    "# grid_search = GridSearchCV(bagging_classifier, param_grid, cv=5, scoring='accuracy')\n",
    "\n",
    "# # Fit the grid search on your training data\n",
    "# grid_search.fit(X_train, y_train)\n",
    "\n",
    "\n",
    "# best_params = grid_search.best_params_\n",
    "# print(\"Best Hyperparameters:\", best_params)\n",
    "\n",
    " \n",
    "# best_bagging_model = grid_search.best_estimator_\n",
    "\n",
    "\n",
    "# y_pred_val = best_bagging_model.predict(X_val)\n",
    "\n",
    "# # Evaluate the model performance on the validation data\n",
    "# accuracy_val = accuracy_score(y_val, y_pred_val)\n",
    "# print(\"Validation Accuracy:\", accuracy_val)\n"
   ]
  },
  {
   "cell_type": "markdown",
   "id": "04daec85",
   "metadata": {
    "papermill": {
     "duration": 0.048993,
     "end_time": "2023-08-08T16:52:36.462391",
     "exception": false,
     "start_time": "2023-08-08T16:52:36.413398",
     "status": "completed"
    },
    "tags": []
   },
   "source": [
    "# **7. Boosting algorithm.**\n",
    "> * AdaBoost\n",
    "> * GradientBoost"
   ]
  },
  {
   "cell_type": "code",
   "execution_count": 59,
   "id": "82d4b4ee",
   "metadata": {
    "execution": {
     "iopub.execute_input": "2023-08-08T16:52:36.563865Z",
     "iopub.status.busy": "2023-08-08T16:52:36.563172Z",
     "iopub.status.idle": "2023-08-08T16:52:36.567071Z",
     "shell.execute_reply": "2023-08-08T16:52:36.566232Z"
    },
    "papermill": {
     "duration": 0.057215,
     "end_time": "2023-08-08T16:52:36.569208",
     "exception": false,
     "start_time": "2023-08-08T16:52:36.511993",
     "status": "completed"
    },
    "tags": []
   },
   "outputs": [],
   "source": [
    "# # Create and apply adaboostclassifier.\n",
    "\n",
    "# ada_boost = AdaBoostClassifier(n_estimators = 50, random_state = 42)\n",
    "# ada_boost.fit(X_train, y_train)"
   ]
  },
  {
   "cell_type": "code",
   "execution_count": 60,
   "id": "4170a38d",
   "metadata": {
    "execution": {
     "iopub.execute_input": "2023-08-08T16:52:36.670988Z",
     "iopub.status.busy": "2023-08-08T16:52:36.670368Z",
     "iopub.status.idle": "2023-08-08T16:52:36.674172Z",
     "shell.execute_reply": "2023-08-08T16:52:36.673387Z"
    },
    "papermill": {
     "duration": 0.057044,
     "end_time": "2023-08-08T16:52:36.676235",
     "exception": false,
     "start_time": "2023-08-08T16:52:36.619191",
     "status": "completed"
    },
    "tags": []
   },
   "outputs": [],
   "source": [
    "# # Make prediction for adaboost.\n",
    "\n",
    "# y_pred = ada_boost.predict(X_test)\n",
    "# accuracy = accuracy_score(y_test, y_pred)\n",
    "# f1 = f1_score(y_test, y_pred)\n",
    "\n",
    "# print('Accuracy:', accuracy)\n",
    "# print(\"F1-score:\", f1)"
   ]
  },
  {
   "cell_type": "markdown",
   "id": "4cc62a1d",
   "metadata": {
    "papermill": {
     "duration": 0.049734,
     "end_time": "2023-08-08T16:52:36.776387",
     "exception": false,
     "start_time": "2023-08-08T16:52:36.726653",
     "status": "completed"
    },
    "tags": []
   },
   "source": [
    "Accuracy: 0.6969771442614893\n",
    "> F1-score: 0.8072835261019068"
   ]
  },
  {
   "cell_type": "code",
   "execution_count": 61,
   "id": "c0cbc323",
   "metadata": {
    "execution": {
     "iopub.execute_input": "2023-08-08T16:52:36.878213Z",
     "iopub.status.busy": "2023-08-08T16:52:36.877557Z",
     "iopub.status.idle": "2023-08-08T16:52:36.881528Z",
     "shell.execute_reply": "2023-08-08T16:52:36.880640Z"
    },
    "papermill": {
     "duration": 0.057503,
     "end_time": "2023-08-08T16:52:36.883696",
     "exception": false,
     "start_time": "2023-08-08T16:52:36.826193",
     "status": "completed"
    },
    "tags": []
   },
   "outputs": [],
   "source": [
    "# grad_boost = GradientBoostingClassifier(n_estimators = 100, random_state = 42)\n",
    "# grad_boost.fit(X_train, y_train)\n"
   ]
  },
  {
   "cell_type": "code",
   "execution_count": 62,
   "id": "83a6e901",
   "metadata": {
    "execution": {
     "iopub.execute_input": "2023-08-08T16:52:36.987562Z",
     "iopub.status.busy": "2023-08-08T16:52:36.986919Z",
     "iopub.status.idle": "2023-08-08T16:52:36.991422Z",
     "shell.execute_reply": "2023-08-08T16:52:36.990550Z"
    },
    "papermill": {
     "duration": 0.059356,
     "end_time": "2023-08-08T16:52:36.993568",
     "exception": false,
     "start_time": "2023-08-08T16:52:36.934212",
     "status": "completed"
    },
    "tags": []
   },
   "outputs": [],
   "source": [
    "# # Make prediction for gradientboost.\n",
    "\n",
    "# y_pred = grad_boost.predict(X_test)\n",
    "# accuracy = accuracy_score(y_test, y_pred)\n",
    "# f1 = f1_score(y_test, y_pred)\n",
    "\n",
    "# print('Accuracy:', accuracy)\n",
    "# print(\"F1-score:\", f1)"
   ]
  },
  {
   "cell_type": "markdown",
   "id": "5de6138d",
   "metadata": {
    "papermill": {
     "duration": 0.049503,
     "end_time": "2023-08-08T16:52:37.092896",
     "exception": false,
     "start_time": "2023-08-08T16:52:37.043393",
     "status": "completed"
    },
    "tags": []
   },
   "source": [
    "Accuracy: 0.6899729663307939\n",
    "> F1-score: 0.8089938678173972"
   ]
  },
  {
   "cell_type": "markdown",
   "id": "2b9a900e",
   "metadata": {
    "papermill": {
     "duration": 0.049595,
     "end_time": "2023-08-08T16:52:37.192238",
     "exception": false,
     "start_time": "2023-08-08T16:52:37.142643",
     "status": "completed"
    },
    "tags": []
   },
   "source": [
    "**Hyperparameter tuning for adaboost.**"
   ]
  },
  {
   "cell_type": "code",
   "execution_count": 63,
   "id": "fe86846a",
   "metadata": {
    "execution": {
     "iopub.execute_input": "2023-08-08T16:52:37.293925Z",
     "iopub.status.busy": "2023-08-08T16:52:37.293279Z",
     "iopub.status.idle": "2023-08-08T16:52:37.298369Z",
     "shell.execute_reply": "2023-08-08T16:52:37.297484Z"
    },
    "papermill": {
     "duration": 0.058664,
     "end_time": "2023-08-08T16:52:37.300647",
     "exception": false,
     "start_time": "2023-08-08T16:52:37.241983",
     "status": "completed"
    },
    "tags": []
   },
   "outputs": [],
   "source": [
    "# # Create the base estimator\n",
    "# base_estimator = DecisionTreeClassifier(max_depth=1)\n",
    "\n",
    "# # Create the AdaBoost classifier\n",
    "# adaboost_classifier = AdaBoostClassifier(base_estimator=base_estimator, random_state=42)\n",
    "\n",
    "# # Define the hyperparameter grid to explore\n",
    "# param_grid = {\n",
    "#     'n_estimators': [50, 100, 200],\n",
    "#     'learning_rate': [0.05, 0.1, 0.2],\n",
    "# }\n",
    "\n",
    "# # Create the GridSearchCV\n",
    "# grid_search = GridSearchCV(adaboost_classifier, param_grid, cv=5, scoring='accuracy')\n",
    "\n",
    "# # Fit the grid search\n",
    "# grid_search.fit(X_train, y_train)\n",
    "\n",
    "# # Get the best hyperparameters\n",
    "# best_params = grid_search.best_params_\n",
    "# print(\"Best Hyperparameters:\", best_params)\n",
    "\n",
    "# # Retrieve the best model with the best hyperparameters\n",
    "# best_adaboost_model = grid_search.best_estimator_\n",
    "\n",
    "# # Make predictions on the test data\n",
    "# y_pred_test = best_adaboost_model.predict(X_test)\n",
    "\n",
    "# # Evaluate the model performance on the test data\n",
    "# accuracy_test = accuracy_score(y_test, y_pred_test)\n",
    "# print(\"Test Accuracy:\", accuracy_test)\n"
   ]
  },
  {
   "cell_type": "markdown",
   "id": "66d4e046",
   "metadata": {
    "papermill": {
     "duration": 0.049809,
     "end_time": "2023-08-08T16:52:37.400334",
     "exception": false,
     "start_time": "2023-08-08T16:52:37.350525",
     "status": "completed"
    },
    "tags": []
   },
   "source": [
    "**Hyperparameter tuning for GradientBoost.**"
   ]
  },
  {
   "cell_type": "code",
   "execution_count": 64,
   "id": "932f3a94",
   "metadata": {
    "execution": {
     "iopub.execute_input": "2023-08-08T16:52:37.505475Z",
     "iopub.status.busy": "2023-08-08T16:52:37.504417Z",
     "iopub.status.idle": "2023-08-08T16:52:37.509832Z",
     "shell.execute_reply": "2023-08-08T16:52:37.508980Z"
    },
    "papermill": {
     "duration": 0.06173,
     "end_time": "2023-08-08T16:52:37.511989",
     "exception": false,
     "start_time": "2023-08-08T16:52:37.450259",
     "status": "completed"
    },
    "tags": []
   },
   "outputs": [],
   "source": [
    "# # Create the Gradient Boosting classifier\n",
    "# gb_classifier = GradientBoostingClassifier()\n",
    "\n",
    "# # Define the hyperparameter grid to explore\n",
    "# param_grid = {\n",
    "#     'n_estimators': [50, 100, 200],  \n",
    "#     'learning_rate': [0.05, 0.1, 0.2],  \n",
    "#     'max_depth': [3, 4, 5], \n",
    "#     'min_samples_split': [2, 5, 10],\n",
    "#     'min_samples_leaf': [1, 2, 4]\n",
    "# }\n",
    "\n",
    "# grid_search = GridSearchCV(gb_classifier, param_grid, cv=5, scoring='accuracy')\n",
    "\n",
    "# grid_search.fit(X_train, y_train)\n",
    "\n",
    "# # Get the best hyperparameters\n",
    "# best_params = grid_search.best_params_\n",
    "# print(\"Best Hyperparameters:\", best_params)\n",
    "\n",
    "# # Retrieve the best model with the best hyperparameters\n",
    "# best_gb_model = grid_search.best_estimator_\n",
    "\n",
    "# # Make predictions on the validation data\n",
    "# y_pred_val = best_gb_model.predict(X_val)\n",
    "\n",
    "# # Evaluate the model performance on the validation data\n",
    "# accuracy_val = accuracy_score(y_val, y_pred_val)\n",
    "# print(\"Validation Accuracy:\", accuracy_val)\n"
   ]
  },
  {
   "cell_type": "markdown",
   "id": "3f3d785b",
   "metadata": {
    "papermill": {
     "duration": 0.049615,
     "end_time": "2023-08-08T16:52:37.611343",
     "exception": false,
     "start_time": "2023-08-08T16:52:37.561728",
     "status": "completed"
    },
    "tags": []
   },
   "source": [
    "**Adaboost with base estimator.**"
   ]
  },
  {
   "cell_type": "code",
   "execution_count": 65,
   "id": "0367e267",
   "metadata": {
    "execution": {
     "iopub.execute_input": "2023-08-08T16:52:37.713474Z",
     "iopub.status.busy": "2023-08-08T16:52:37.713079Z",
     "iopub.status.idle": "2023-08-08T16:52:37.718087Z",
     "shell.execute_reply": "2023-08-08T16:52:37.716966Z"
    },
    "papermill": {
     "duration": 0.059472,
     "end_time": "2023-08-08T16:52:37.720469",
     "exception": false,
     "start_time": "2023-08-08T16:52:37.660997",
     "status": "completed"
    },
    "tags": []
   },
   "outputs": [],
   "source": [
    "# # Create the base estimator\n",
    "# base_estimator = DecisionTreeClassifier(max_depth=3) \n",
    "\n",
    "# # Create the AdaBoost classifier with the base estimator\n",
    "# adaboost_classifier = AdaBoostClassifier(base_estimator=base_estimator, n_estimators=50, random_state=42)\n",
    "\n",
    "# # Train the AdaBoost classifier on the training data\n",
    "# adaboost_classifier.fit(X_train, y_train)\n",
    "\n",
    "# # Make predictions on the test data\n",
    "# y_pred = adaboost_classifier.predict(X_test)\n",
    "\n",
    "# # Evaluate the model performance\n",
    "# accuracy = accuracy_score(y_test, y_pred)\n",
    "# print(\"Accuracy:\", accuracy)"
   ]
  },
  {
   "cell_type": "markdown",
   "id": "d2f06ae7",
   "metadata": {
    "papermill": {
     "duration": 0.049389,
     "end_time": "2023-08-08T16:52:37.820010",
     "exception": false,
     "start_time": "2023-08-08T16:52:37.770621",
     "status": "completed"
    },
    "tags": []
   },
   "source": [
    "Accuracy: 0.7187576800196609"
   ]
  },
  {
   "cell_type": "markdown",
   "id": "04d4c2e7",
   "metadata": {
    "papermill": {
     "duration": 0.049386,
     "end_time": "2023-08-08T16:52:37.919617",
     "exception": false,
     "start_time": "2023-08-08T16:52:37.870231",
     "status": "completed"
    },
    "tags": []
   },
   "source": [
    "**Gradientboost with base estimator.**\n",
    "> sklearn doesn't have any base estimator for Gradientboost instead it uses default base estimator i.e. decision tree."
   ]
  },
  {
   "cell_type": "markdown",
   "id": "a2d8c85b",
   "metadata": {
    "papermill": {
     "duration": 0.050557,
     "end_time": "2023-08-08T16:52:38.019948",
     "exception": false,
     "start_time": "2023-08-08T16:52:37.969391",
     "status": "completed"
    },
    "tags": []
   },
   "source": [
    "# **8. Multi Layer Perceptron algorithm.**"
   ]
  },
  {
   "cell_type": "code",
   "execution_count": 66,
   "id": "fd516292",
   "metadata": {
    "execution": {
     "iopub.execute_input": "2023-08-08T16:52:38.124414Z",
     "iopub.status.busy": "2023-08-08T16:52:38.123995Z",
     "iopub.status.idle": "2023-08-08T16:52:38.129014Z",
     "shell.execute_reply": "2023-08-08T16:52:38.127702Z"
    },
    "papermill": {
     "duration": 0.059665,
     "end_time": "2023-08-08T16:52:38.131846",
     "exception": false,
     "start_time": "2023-08-08T16:52:38.072181",
     "status": "completed"
    },
    "tags": []
   },
   "outputs": [],
   "source": [
    "# # Create and train the MLPClassifier.\n",
    "# mlp = MLPClassifier(hidden_layer_sizes=(100,), activation='relu', solver='adam', random_state=42)  \n",
    "\n",
    "# # Adjust the hidden_layer_sizes\n",
    "# mlp.fit(X_train_selected, y_train)"
   ]
  },
  {
   "cell_type": "code",
   "execution_count": 67,
   "id": "4a9d62d3",
   "metadata": {
    "execution": {
     "iopub.execute_input": "2023-08-08T16:52:38.238569Z",
     "iopub.status.busy": "2023-08-08T16:52:38.238178Z",
     "iopub.status.idle": "2023-08-08T16:52:38.243077Z",
     "shell.execute_reply": "2023-08-08T16:52:38.241840Z"
    },
    "papermill": {
     "duration": 0.063375,
     "end_time": "2023-08-08T16:52:38.245375",
     "exception": false,
     "start_time": "2023-08-08T16:52:38.182000",
     "status": "completed"
    },
    "tags": []
   },
   "outputs": [],
   "source": [
    "# # Make predictions.\n",
    "\n",
    "# y_pred = mlp.predict(X_test_selected)\n",
    "\n",
    "# accuracy = accuracy_score(y_test, y_pred)\n",
    "# f1 = f1_score(y_test, y_pred)\n",
    "\n",
    "# print('Accuracy:', accuracy)\n",
    "# print(\"F1-score:\", f1)"
   ]
  },
  {
   "cell_type": "markdown",
   "id": "e545b3f4",
   "metadata": {
    "papermill": {
     "duration": 0.051241,
     "end_time": "2023-08-08T16:52:38.362334",
     "exception": false,
     "start_time": "2023-08-08T16:52:38.311093",
     "status": "completed"
    },
    "tags": []
   },
   "source": [
    "Accuracy: 0.7396473334971737\n",
    "> F1-score: 0.81192161736313"
   ]
  },
  {
   "cell_type": "markdown",
   "id": "0566173c",
   "metadata": {
    "papermill": {
     "duration": 0.050878,
     "end_time": "2023-08-08T16:52:38.466986",
     "exception": false,
     "start_time": "2023-08-08T16:52:38.416108",
     "status": "completed"
    },
    "tags": []
   },
   "source": [
    "**Hyperparameter tuning for MLP.**"
   ]
  },
  {
   "cell_type": "code",
   "execution_count": 68,
   "id": "192a377e",
   "metadata": {
    "execution": {
     "iopub.execute_input": "2023-08-08T16:52:38.569760Z",
     "iopub.status.busy": "2023-08-08T16:52:38.569357Z",
     "iopub.status.idle": "2023-08-08T16:52:38.575400Z",
     "shell.execute_reply": "2023-08-08T16:52:38.574244Z"
    },
    "papermill": {
     "duration": 0.060469,
     "end_time": "2023-08-08T16:52:38.577911",
     "exception": false,
     "start_time": "2023-08-08T16:52:38.517442",
     "status": "completed"
    },
    "tags": []
   },
   "outputs": [],
   "source": [
    "# # Create the MLP classifier\n",
    "# mlp_classifier = MLPClassifier()\n",
    "\n",
    "# # Define the hyperparameter grid to explore\n",
    "# param_grid = {\n",
    "#     'hidden_layer_sizes': [(100,), (100, 50)],  # Try different architectures\n",
    "#     'alpha': [0.0001, 0.001, 0.01],  # Try different regularization terms\n",
    "#     'learning_rate_init': [0.001, 0.01, 0.1],  # Try different initial learning rates\n",
    "#     'max_iter': [100, 200, 300]  # Try different numbers of epochs\n",
    "# }\n",
    "\n",
    "# # Create the GridSearchCV object with cross-validation\n",
    "# random_search = RandomizedSearchCV(mlp_classifier, param_grid, cv=5, scoring='accuracy')\n",
    "\n",
    "# # Fit the grid search on your training data (X_train, y_train)\n",
    "# random_search.fit(X_train, y_train)\n",
    "\n",
    "# # Get the best hyperparameters found during grid search\n",
    "# best_params = random_search.best_params_\n",
    "# print(\"Best Hyperparameters:\", best_params)\n",
    "\n",
    "# # Retrieve the best model with the best hyperparameters\n",
    "# best_mlp_model = random_search.best_estimator_\n",
    "\n",
    "# # Make predictions on the validation data\n",
    "# y_pred_val = best_mlp_model.predict(X_val)\n",
    "\n",
    "# # Evaluate the model performance on the validation data\n",
    "# accuracy_val = accuracy_score(y_val, y_pred_val)\n",
    "# print(\"Validation Accuracy:\", accuracy_val)\n"
   ]
  },
  {
   "cell_type": "markdown",
   "id": "918b2af9",
   "metadata": {
    "papermill": {
     "duration": 0.051007,
     "end_time": "2023-08-08T16:52:38.679129",
     "exception": false,
     "start_time": "2023-08-08T16:52:38.628122",
     "status": "completed"
    },
    "tags": []
   },
   "source": [
    "# **9. RandomForest**"
   ]
  },
  {
   "cell_type": "code",
   "execution_count": 69,
   "id": "fe74601a",
   "metadata": {
    "execution": {
     "iopub.execute_input": "2023-08-08T16:52:38.782556Z",
     "iopub.status.busy": "2023-08-08T16:52:38.782109Z",
     "iopub.status.idle": "2023-08-08T16:52:38.787664Z",
     "shell.execute_reply": "2023-08-08T16:52:38.786238Z"
    },
    "papermill": {
     "duration": 0.060062,
     "end_time": "2023-08-08T16:52:38.790287",
     "exception": false,
     "start_time": "2023-08-08T16:52:38.730225",
     "status": "completed"
    },
    "tags": []
   },
   "outputs": [],
   "source": [
    "\n",
    "# rf_classifier = RandomForestClassifier(n_estimators=100, random_state=42)\n",
    "\n",
    "# # Train the classifier on the training data\n",
    "# model = rf_classifier.fit(X_train_selected, y_train)\n",
    "\n",
    "# # Make predictions on the test data\n",
    "# y_pred = model.predict(X_test_selected)\n",
    "\n",
    "# # Evaluate the model\n",
    "# accuracy = accuracy_score(y_test, y_pred)\n",
    "# classification_report_str = classification_report(y_test, y_pred)\n",
    "# f1 = f1_score(y_test, y_pred)\n",
    "\n",
    "# print(\"Accuracy:\", accuracy)\n",
    "# print(\"F1-score:\", f1)\n",
    "# print(\"Classification Report:\\n\", classification_report_str)\n"
   ]
  },
  {
   "cell_type": "markdown",
   "id": "0c40fbf3",
   "metadata": {
    "papermill": {
     "duration": 0.050626,
     "end_time": "2023-08-08T16:52:38.891499",
     "exception": false,
     "start_time": "2023-08-08T16:52:38.840873",
     "status": "completed"
    },
    "tags": []
   },
   "source": [
    "Accuracy: 0.7365446055541902\n",
    "> F1-score: 0.813012384440956"
   ]
  },
  {
   "cell_type": "code",
   "execution_count": 70,
   "id": "991e039d",
   "metadata": {
    "execution": {
     "iopub.execute_input": "2023-08-08T16:52:38.994245Z",
     "iopub.status.busy": "2023-08-08T16:52:38.993824Z",
     "iopub.status.idle": "2023-08-08T16:52:38.998722Z",
     "shell.execute_reply": "2023-08-08T16:52:38.997314Z"
    },
    "papermill": {
     "duration": 0.059629,
     "end_time": "2023-08-08T16:52:39.001290",
     "exception": false,
     "start_time": "2023-08-08T16:52:38.941661",
     "status": "completed"
    },
    "tags": []
   },
   "outputs": [],
   "source": [
    "# np.count_nonzero(y_pred ==0)"
   ]
  },
  {
   "cell_type": "markdown",
   "id": "71f5cd0b",
   "metadata": {
    "papermill": {
     "duration": 0.050205,
     "end_time": "2023-08-08T16:52:39.103423",
     "exception": false,
     "start_time": "2023-08-08T16:52:39.053218",
     "status": "completed"
    },
    "tags": []
   },
   "source": [
    "**Hyperparameter for RandomForest.**"
   ]
  },
  {
   "cell_type": "code",
   "execution_count": 71,
   "id": "6ec16147",
   "metadata": {
    "execution": {
     "iopub.execute_input": "2023-08-08T16:52:39.206883Z",
     "iopub.status.busy": "2023-08-08T16:52:39.206448Z",
     "iopub.status.idle": "2023-08-08T16:52:39.212527Z",
     "shell.execute_reply": "2023-08-08T16:52:39.211129Z"
    },
    "papermill": {
     "duration": 0.06111,
     "end_time": "2023-08-08T16:52:39.215189",
     "exception": false,
     "start_time": "2023-08-08T16:52:39.154079",
     "status": "completed"
    },
    "tags": []
   },
   "outputs": [],
   "source": [
    "# param_grid = {\n",
    "#     'n_estimators': [50, 100, 200],\n",
    "#     'max_depth': [None, 10, 20],\n",
    "#     'min_samples_split': [2, 5, 10],\n",
    "#     'min_samples_leaf': [1, 2, 4],\n",
    "#     'max_features': ['sqrt']\n",
    "# }\n",
    "\n",
    "# # Create a RandomForestClassifier\n",
    "# rf_model = RandomForestClassifier(random_state=42)\n",
    "\n",
    "# # Create the GridSearchCV object\n",
    "# random_search = RandomizedSearchCV(rf_classifier, param_grid, cv=5, scoring='accuracy')\n",
    "\n",
    "# # Fit the grid search to the training data\n",
    "# random_search.fit(X_train, y_train)\n",
    "\n",
    "# # Get the best hyperparameters and model\n",
    "# best_params = random_search.best_params_\n",
    "# best_model = random_search.best_estimator_\n",
    "\n",
    "# # Evaluate the best model on the test data\n",
    "# accuracy = best_model.score(X_test, y_test)"
   ]
  },
  {
   "cell_type": "code",
   "execution_count": 72,
   "id": "6e8954bd",
   "metadata": {
    "execution": {
     "iopub.execute_input": "2023-08-08T16:52:39.323878Z",
     "iopub.status.busy": "2023-08-08T16:52:39.322866Z",
     "iopub.status.idle": "2023-08-08T16:52:39.328097Z",
     "shell.execute_reply": "2023-08-08T16:52:39.327065Z"
    },
    "papermill": {
     "duration": 0.062736,
     "end_time": "2023-08-08T16:52:39.330453",
     "exception": false,
     "start_time": "2023-08-08T16:52:39.267717",
     "status": "completed"
    },
    "tags": []
   },
   "outputs": [],
   "source": [
    "# y_pred = best_model.predict(y_features)\n",
    "\n",
    "# # Print the predictions\n",
    "# print(\"Predictions for New Data:\")\n",
    "# print(predictions)"
   ]
  },
  {
   "cell_type": "code",
   "execution_count": 73,
   "id": "8d833490",
   "metadata": {
    "execution": {
     "iopub.execute_input": "2023-08-08T16:52:39.438172Z",
     "iopub.status.busy": "2023-08-08T16:52:39.437391Z",
     "iopub.status.idle": "2023-08-08T16:52:39.441886Z",
     "shell.execute_reply": "2023-08-08T16:52:39.440976Z"
    },
    "papermill": {
     "duration": 0.061338,
     "end_time": "2023-08-08T16:52:39.444445",
     "exception": false,
     "start_time": "2023-08-08T16:52:39.383107",
     "status": "completed"
    },
    "tags": []
   },
   "outputs": [],
   "source": [
    "# import os\n",
    "# os.remove(\"./submission.csv\")"
   ]
  },
  {
   "cell_type": "code",
   "execution_count": 74,
   "id": "9d83244c",
   "metadata": {
    "execution": {
     "iopub.execute_input": "2023-08-08T16:52:39.549750Z",
     "iopub.status.busy": "2023-08-08T16:52:39.549259Z",
     "iopub.status.idle": "2023-08-08T16:52:39.557253Z",
     "shell.execute_reply": "2023-08-08T16:52:39.556244Z"
    },
    "papermill": {
     "duration": 0.06382,
     "end_time": "2023-08-08T16:52:39.559750",
     "exception": false,
     "start_time": "2023-08-08T16:52:39.495930",
     "status": "completed"
    },
    "tags": []
   },
   "outputs": [],
   "source": [
    "# Prediction on y_test.\n",
    "y_pred = best_model.predict(y_review_selected)\n",
    "out=pd.DataFrame(y_pred)"
   ]
  },
  {
   "cell_type": "code",
   "execution_count": 75,
   "id": "a464a0f8",
   "metadata": {
    "execution": {
     "iopub.execute_input": "2023-08-08T16:52:39.662849Z",
     "iopub.status.busy": "2023-08-08T16:52:39.662097Z",
     "iopub.status.idle": "2023-08-08T16:52:39.669453Z",
     "shell.execute_reply": "2023-08-08T16:52:39.668676Z"
    },
    "papermill": {
     "duration": 0.06112,
     "end_time": "2023-08-08T16:52:39.671736",
     "exception": false,
     "start_time": "2023-08-08T16:52:39.610616",
     "status": "completed"
    },
    "tags": []
   },
   "outputs": [],
   "source": [
    "out.rename(columns = {0:'sentiment'}, inplace = True)\n",
    "out=out.reset_index()\n",
    "out.rename(columns = {'index':'id'}, inplace = True)"
   ]
  },
  {
   "cell_type": "code",
   "execution_count": 76,
   "id": "d678058c",
   "metadata": {
    "execution": {
     "iopub.execute_input": "2023-08-08T16:52:39.776691Z",
     "iopub.status.busy": "2023-08-08T16:52:39.775607Z",
     "iopub.status.idle": "2023-08-08T16:52:39.813569Z",
     "shell.execute_reply": "2023-08-08T16:52:39.812163Z"
    },
    "papermill": {
     "duration": 0.092462,
     "end_time": "2023-08-08T16:52:39.816336",
     "exception": false,
     "start_time": "2023-08-08T16:52:39.723874",
     "status": "completed"
    },
    "tags": []
   },
   "outputs": [],
   "source": [
    "def convert_sentiment(sentiment):\n",
    "    sentiment_mapping = {\n",
    "        1 : 'POSITIVE',\n",
    "        0 : 'NEGATIVE'\n",
    "    }\n",
    "    return sentiment_mapping.get(sentiment, 0)\n",
    "\n",
    "# Convert sentiment labels to numerical values\n",
    "out['sentiment'] = out['sentiment'].apply(convert_sentiment)"
   ]
  },
  {
   "cell_type": "code",
   "execution_count": 77,
   "id": "adb10fb4",
   "metadata": {
    "execution": {
     "iopub.execute_input": "2023-08-08T16:52:39.920267Z",
     "iopub.status.busy": "2023-08-08T16:52:39.919804Z",
     "iopub.status.idle": "2023-08-08T16:52:40.084318Z",
     "shell.execute_reply": "2023-08-08T16:52:40.083107Z"
    },
    "papermill": {
     "duration": 0.219169,
     "end_time": "2023-08-08T16:52:40.087400",
     "exception": false,
     "start_time": "2023-08-08T16:52:39.868231",
     "status": "completed"
    },
    "tags": []
   },
   "outputs": [],
   "source": [
    "out.to_csv('submission.csv',index=False)"
   ]
  },
  {
   "cell_type": "code",
   "execution_count": null,
   "id": "1de5509c",
   "metadata": {
    "papermill": {
     "duration": 0.05031,
     "end_time": "2023-08-08T16:52:40.188355",
     "exception": false,
     "start_time": "2023-08-08T16:52:40.138045",
     "status": "completed"
    },
    "tags": []
   },
   "outputs": [],
   "source": []
  }
 ],
 "metadata": {
  "kernelspec": {
   "display_name": "Python 3",
   "language": "python",
   "name": "python3"
  },
  "language_info": {
   "codemirror_mode": {
    "name": "ipython",
    "version": 3
   },
   "file_extension": ".py",
   "mimetype": "text/x-python",
   "name": "python",
   "nbconvert_exporter": "python",
   "pygments_lexer": "ipython3",
   "version": "3.10.10"
  },
  "papermill": {
   "default_parameters": {},
   "duration": 2869.426702,
   "end_time": "2023-08-08T16:52:41.469973",
   "environment_variables": {},
   "exception": null,
   "input_path": "__notebook__.ipynb",
   "output_path": "__notebook__.ipynb",
   "parameters": {},
   "start_time": "2023-08-08T16:04:52.043271",
   "version": "2.4.0"
  }
 },
 "nbformat": 4,
 "nbformat_minor": 5
}
